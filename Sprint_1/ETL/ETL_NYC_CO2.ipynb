{
 "cells": [
  {
   "cell_type": "code",
   "execution_count": 8,
   "metadata": {},
   "outputs": [
    {
     "name": "stdout",
     "output_type": "stream",
     "text": [
      "Archivo CSV generado correctamente.\n"
     ]
    }
   ],
   "source": [
    "import pandas as pd\n",
    "\n",
    "# Cargar el archivo Excel\n",
    "df = pd.read_excel('new york.xlsx', header=None)\n",
    "\n",
    "# Extraer la fila 4 (índice 3) y la fila 35 (índice 34), comenzando desde la columna 'C' (índice 2)\n",
    "years = df.iloc[3, 2:].dropna().values  # Eliminar valores NaN desde la columna 'C'\n",
    "totals = df.iloc[34, 2:].dropna().values  # Eliminar valores NaN desde la columna 'C'\n",
    "\n",
    "# Asegurar que ambas filas tengan la misma longitud\n",
    "min_length = min(len(years), len(totals))\n",
    "years = years[:min_length]\n",
    "totals = totals[:min_length]\n",
    "\n",
    "# Crear un nuevo DataFrame con las columnas de años y totales\n",
    "data = pd.DataFrame({\n",
    "    'Year': years,\n",
    "    'Total': totals\n",
    "})\n",
    "\n",
    "# Asegurarse de que los años sean enteros\n",
    "data['Year'] = data['Year'].astype(int)\n",
    "\n",
    "# Convertir la columna 'Total' a numérico y redondear a dos decimales\n",
    "data['Total'] = pd.to_numeric(data['Total'], errors='coerce').round(2)\n",
    "\n",
    "# Guardar el nuevo DataFrame como CSV\n",
    "data.to_csv('NYC_CO2.csv', index=False)\n",
    "\n",
    "print(\"Archivo CSV generado correctamente.\")\n"
   ]
  }
 ],
 "metadata": {
  "kernelspec": {
   "display_name": "Python 3",
   "language": "python",
   "name": "python3"
  },
  "language_info": {
   "codemirror_mode": {
    "name": "ipython",
    "version": 3
   },
   "file_extension": ".py",
   "mimetype": "text/x-python",
   "name": "python",
   "nbconvert_exporter": "python",
   "pygments_lexer": "ipython3",
   "version": "3.12.1"
  }
 },
 "nbformat": 4,
 "nbformat_minor": 2
}
