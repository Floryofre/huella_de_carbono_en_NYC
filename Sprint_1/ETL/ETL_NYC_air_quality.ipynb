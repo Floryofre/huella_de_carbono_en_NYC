{
 "cells": [
  {
   "cell_type": "code",
   "execution_count": null,
   "metadata": {},
   "outputs": [],
   "source": [
    "import pandas as pd"
   ]
  },
  {
   "cell_type": "markdown",
   "metadata": {},
   "source": [
    "#### carga de archivo csv"
   ]
  },
  {
   "cell_type": "code",
   "execution_count": null,
   "metadata": {},
   "outputs": [],
   "source": [
    "# Leer los archivos CSV\n",
    "df_NYC_air_quality = pd.read_csv('NYC_air_quality.csv')"
   ]
  },
  {
   "cell_type": "markdown",
   "metadata": {},
   "source": [
    "##### se procede a leer la informacion del DAtaFrames, con la finalidad de encontrar valores nulos y/o faltantes, a demas se saber con que tipo de datos estamos tratando"
   ]
  },
  {
   "cell_type": "code",
   "execution_count": null,
   "metadata": {},
   "outputs": [],
   "source": [
    "# cuenta el total de filas dentro de DataFrame_NYC_air_quality\n",
    "total_filas = df_victimas.shape[0]\n",
    "print(\"La cantidad total de filas en el DataFrame_victimas es:\", total_filas)\n",
    "\n",
    "# Obtiene información sobre el DataFrame_victimas\n",
    "print(df_victimas.info())"
   ]
  }
 ],
 "metadata": {
  "language_info": {
   "name": "python"
  }
 },
 "nbformat": 4,
 "nbformat_minor": 2
}
