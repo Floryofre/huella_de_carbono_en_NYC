{
 "cells": [
  {
   "cell_type": "code",
   "execution_count": 1,
   "metadata": {},
   "outputs": [],
   "source": [
    "import pandas as pd\n",
    "import numpy as np "
   ]
  },
  {
   "cell_type": "markdown",
   "metadata": {},
   "source": [
    "#### carga de archivo csv"
   ]
  },
  {
   "cell_type": "code",
   "execution_count": 2,
   "metadata": {},
   "outputs": [],
   "source": [
    "# Lee el archivo CSV\n",
    "df_NYC_air_quality = pd.read_csv('NYC_air_quality_raw.csv')"
   ]
  },
  {
   "cell_type": "code",
   "execution_count": 3,
   "metadata": {},
   "outputs": [
    {
     "data": {
      "text/html": [
       "<div>\n",
       "<style scoped>\n",
       "    .dataframe tbody tr th:only-of-type {\n",
       "        vertical-align: middle;\n",
       "    }\n",
       "\n",
       "    .dataframe tbody tr th {\n",
       "        vertical-align: top;\n",
       "    }\n",
       "\n",
       "    .dataframe thead th {\n",
       "        text-align: right;\n",
       "    }\n",
       "</style>\n",
       "<table border=\"1\" class=\"dataframe\">\n",
       "  <thead>\n",
       "    <tr style=\"text-align: right;\">\n",
       "      <th></th>\n",
       "      <th>indicator_id</th>\n",
       "      <th>name</th>\n",
       "      <th>measure</th>\n",
       "      <th>geo_type_name</th>\n",
       "      <th>geo_join_id</th>\n",
       "      <th>data_value</th>\n",
       "      <th>geo_place_name</th>\n",
       "      <th>measure_info</th>\n",
       "      <th>time_period</th>\n",
       "      <th>message</th>\n",
       "      <th>start_date</th>\n",
       "      <th>unique_id</th>\n",
       "    </tr>\n",
       "  </thead>\n",
       "  <tbody>\n",
       "    <tr>\n",
       "      <th>0</th>\n",
       "      <td>646</td>\n",
       "      <td>Outdoor Air Toxics - Benzene</td>\n",
       "      <td>Annual average concentration</td>\n",
       "      <td>CD</td>\n",
       "      <td>203.0</td>\n",
       "      <td>1.4</td>\n",
       "      <td>Morrisania and Crotona (CD3)</td>\n",
       "      <td>Âµg/m3</td>\n",
       "      <td>2011</td>\n",
       "      <td>NaN</td>\n",
       "      <td>2011-01-01T00:00:00.000</td>\n",
       "      <td>227582</td>\n",
       "    </tr>\n",
       "    <tr>\n",
       "      <th>1</th>\n",
       "      <td>646</td>\n",
       "      <td>Outdoor Air Toxics - Benzene</td>\n",
       "      <td>Annual average concentration</td>\n",
       "      <td>CD</td>\n",
       "      <td>303.0</td>\n",
       "      <td>1.4</td>\n",
       "      <td>Bedford Stuyvesant (CD3)</td>\n",
       "      <td>Âµg/m3</td>\n",
       "      <td>2011</td>\n",
       "      <td>NaN</td>\n",
       "      <td>2011-01-01T00:00:00.000</td>\n",
       "      <td>227594</td>\n",
       "    </tr>\n",
       "    <tr>\n",
       "      <th>2</th>\n",
       "      <td>646</td>\n",
       "      <td>Outdoor Air Toxics - Benzene</td>\n",
       "      <td>Annual average concentration</td>\n",
       "      <td>CD</td>\n",
       "      <td>503.0</td>\n",
       "      <td>1.1</td>\n",
       "      <td>Tottenville and Great Kills (CD3)</td>\n",
       "      <td>Âµg/m3</td>\n",
       "      <td>2011</td>\n",
       "      <td>NaN</td>\n",
       "      <td>2011-01-01T00:00:00.000</td>\n",
       "      <td>227626</td>\n",
       "    </tr>\n",
       "    <tr>\n",
       "      <th>3</th>\n",
       "      <td>375</td>\n",
       "      <td>Nitrogen dioxide (NO2)</td>\n",
       "      <td>Mean</td>\n",
       "      <td>UHF34</td>\n",
       "      <td>306308.0</td>\n",
       "      <td>32.9</td>\n",
       "      <td>Chelsea-Village</td>\n",
       "      <td>ppb</td>\n",
       "      <td>Annual Average 2012</td>\n",
       "      <td>NaN</td>\n",
       "      <td>2011-12-01T00:00:00.000</td>\n",
       "      <td>172709</td>\n",
       "    </tr>\n",
       "    <tr>\n",
       "      <th>4</th>\n",
       "      <td>375</td>\n",
       "      <td>Nitrogen dioxide (NO2)</td>\n",
       "      <td>Mean</td>\n",
       "      <td>UHF34</td>\n",
       "      <td>203.0</td>\n",
       "      <td>22.9</td>\n",
       "      <td>Bedford Stuyvesant - Crown Heights</td>\n",
       "      <td>ppb</td>\n",
       "      <td>Annual Average 2012</td>\n",
       "      <td>NaN</td>\n",
       "      <td>2011-12-01T00:00:00.000</td>\n",
       "      <td>172687</td>\n",
       "    </tr>\n",
       "    <tr>\n",
       "      <th>...</th>\n",
       "      <td>...</td>\n",
       "      <td>...</td>\n",
       "      <td>...</td>\n",
       "      <td>...</td>\n",
       "      <td>...</td>\n",
       "      <td>...</td>\n",
       "      <td>...</td>\n",
       "      <td>...</td>\n",
       "      <td>...</td>\n",
       "      <td>...</td>\n",
       "      <td>...</td>\n",
       "      <td>...</td>\n",
       "    </tr>\n",
       "    <tr>\n",
       "      <th>18020</th>\n",
       "      <td>365</td>\n",
       "      <td>Fine particles (PM 2.5)</td>\n",
       "      <td>Mean</td>\n",
       "      <td>CD</td>\n",
       "      <td>409.0</td>\n",
       "      <td>9.7</td>\n",
       "      <td>Kew Gardens and Woodhaven (CD9)</td>\n",
       "      <td>mcg/m3</td>\n",
       "      <td>Annual Average 2011</td>\n",
       "      <td>NaN</td>\n",
       "      <td>2010-12-01T00:00:00.000</td>\n",
       "      <td>170332</td>\n",
       "    </tr>\n",
       "    <tr>\n",
       "      <th>18021</th>\n",
       "      <td>365</td>\n",
       "      <td>Fine particles (PM 2.5)</td>\n",
       "      <td>Mean</td>\n",
       "      <td>CD</td>\n",
       "      <td>411.0</td>\n",
       "      <td>6.0</td>\n",
       "      <td>Bayside and Little Neck (CD11)</td>\n",
       "      <td>mcg/m3</td>\n",
       "      <td>Annual Average 2020</td>\n",
       "      <td>NaN</td>\n",
       "      <td>2020-01-01T00:00:00.000</td>\n",
       "      <td>669964</td>\n",
       "    </tr>\n",
       "    <tr>\n",
       "      <th>18022</th>\n",
       "      <td>365</td>\n",
       "      <td>Fine particles (PM 2.5)</td>\n",
       "      <td>Mean</td>\n",
       "      <td>CD</td>\n",
       "      <td>209.0</td>\n",
       "      <td>9.5</td>\n",
       "      <td>Parkchester and Soundview (CD9)</td>\n",
       "      <td>mcg/m3</td>\n",
       "      <td>Annual Average 2012</td>\n",
       "      <td>NaN</td>\n",
       "      <td>2011-12-01T00:00:00.000</td>\n",
       "      <td>170361</td>\n",
       "    </tr>\n",
       "    <tr>\n",
       "      <th>18023</th>\n",
       "      <td>365</td>\n",
       "      <td>Fine particles (PM 2.5)</td>\n",
       "      <td>Mean</td>\n",
       "      <td>CD</td>\n",
       "      <td>209.0</td>\n",
       "      <td>7.1</td>\n",
       "      <td>Parkchester and Soundview (CD9)</td>\n",
       "      <td>mcg/m3</td>\n",
       "      <td>Summer 2022</td>\n",
       "      <td>NaN</td>\n",
       "      <td>2022-06-01T00:00:00.000</td>\n",
       "      <td>823179</td>\n",
       "    </tr>\n",
       "    <tr>\n",
       "      <th>18024</th>\n",
       "      <td>375</td>\n",
       "      <td>Nitrogen dioxide (NO2)</td>\n",
       "      <td>Mean</td>\n",
       "      <td>CD</td>\n",
       "      <td>409.0</td>\n",
       "      <td>10.6</td>\n",
       "      <td>Kew Gardens and Woodhaven (CD9)</td>\n",
       "      <td>ppb</td>\n",
       "      <td>Summer 2022</td>\n",
       "      <td>NaN</td>\n",
       "      <td>2022-06-01T00:00:00.000</td>\n",
       "      <td>826375</td>\n",
       "    </tr>\n",
       "  </tbody>\n",
       "</table>\n",
       "<p>18025 rows × 12 columns</p>\n",
       "</div>"
      ],
      "text/plain": [
       "       indicator_id                          name  \\\n",
       "0               646  Outdoor Air Toxics - Benzene   \n",
       "1               646  Outdoor Air Toxics - Benzene   \n",
       "2               646  Outdoor Air Toxics - Benzene   \n",
       "3               375        Nitrogen dioxide (NO2)   \n",
       "4               375        Nitrogen dioxide (NO2)   \n",
       "...             ...                           ...   \n",
       "18020           365       Fine particles (PM 2.5)   \n",
       "18021           365       Fine particles (PM 2.5)   \n",
       "18022           365       Fine particles (PM 2.5)   \n",
       "18023           365       Fine particles (PM 2.5)   \n",
       "18024           375        Nitrogen dioxide (NO2)   \n",
       "\n",
       "                            measure geo_type_name  geo_join_id  data_value  \\\n",
       "0      Annual average concentration            CD        203.0         1.4   \n",
       "1      Annual average concentration            CD        303.0         1.4   \n",
       "2      Annual average concentration            CD        503.0         1.1   \n",
       "3                              Mean         UHF34     306308.0        32.9   \n",
       "4                              Mean         UHF34        203.0        22.9   \n",
       "...                             ...           ...          ...         ...   \n",
       "18020                          Mean            CD        409.0         9.7   \n",
       "18021                          Mean            CD        411.0         6.0   \n",
       "18022                          Mean            CD        209.0         9.5   \n",
       "18023                          Mean            CD        209.0         7.1   \n",
       "18024                          Mean            CD        409.0        10.6   \n",
       "\n",
       "                           geo_place_name measure_info          time_period  \\\n",
       "0            Morrisania and Crotona (CD3)       Âµg/m3                 2011   \n",
       "1                Bedford Stuyvesant (CD3)       Âµg/m3                 2011   \n",
       "2       Tottenville and Great Kills (CD3)       Âµg/m3                 2011   \n",
       "3                         Chelsea-Village          ppb  Annual Average 2012   \n",
       "4      Bedford Stuyvesant - Crown Heights          ppb  Annual Average 2012   \n",
       "...                                   ...          ...                  ...   \n",
       "18020     Kew Gardens and Woodhaven (CD9)       mcg/m3  Annual Average 2011   \n",
       "18021      Bayside and Little Neck (CD11)       mcg/m3  Annual Average 2020   \n",
       "18022     Parkchester and Soundview (CD9)       mcg/m3  Annual Average 2012   \n",
       "18023     Parkchester and Soundview (CD9)       mcg/m3          Summer 2022   \n",
       "18024     Kew Gardens and Woodhaven (CD9)          ppb          Summer 2022   \n",
       "\n",
       "       message               start_date  unique_id  \n",
       "0          NaN  2011-01-01T00:00:00.000     227582  \n",
       "1          NaN  2011-01-01T00:00:00.000     227594  \n",
       "2          NaN  2011-01-01T00:00:00.000     227626  \n",
       "3          NaN  2011-12-01T00:00:00.000     172709  \n",
       "4          NaN  2011-12-01T00:00:00.000     172687  \n",
       "...        ...                      ...        ...  \n",
       "18020      NaN  2010-12-01T00:00:00.000     170332  \n",
       "18021      NaN  2020-01-01T00:00:00.000     669964  \n",
       "18022      NaN  2011-12-01T00:00:00.000     170361  \n",
       "18023      NaN  2022-06-01T00:00:00.000     823179  \n",
       "18024      NaN  2022-06-01T00:00:00.000     826375  \n",
       "\n",
       "[18025 rows x 12 columns]"
      ]
     },
     "execution_count": 3,
     "metadata": {},
     "output_type": "execute_result"
    }
   ],
   "source": [
    "df_NYC_air_quality"
   ]
  },
  {
   "cell_type": "markdown",
   "metadata": {},
   "source": [
    "##### se procede a leer la informacion del DAtaFrames, con la finalidad de encontrar valores nulos y/o faltantes, a demas se saber con que tipo de datos estamos tratando"
   ]
  },
  {
   "cell_type": "code",
   "execution_count": 4,
   "metadata": {},
   "outputs": [
    {
     "name": "stdout",
     "output_type": "stream",
     "text": [
      "La cantidad total de filas en el df_NYC_air_quality es: 18025\n",
      "<class 'pandas.core.frame.DataFrame'>\n",
      "RangeIndex: 18025 entries, 0 to 18024\n",
      "Data columns (total 12 columns):\n",
      " #   Column          Non-Null Count  Dtype  \n",
      "---  ------          --------------  -----  \n",
      " 0   indicator_id    18025 non-null  int64  \n",
      " 1   name            18025 non-null  object \n",
      " 2   measure         18025 non-null  object \n",
      " 3   geo_type_name   18025 non-null  object \n",
      " 4   geo_join_id     18016 non-null  float64\n",
      " 5   data_value      18025 non-null  float64\n",
      " 6   geo_place_name  18016 non-null  object \n",
      " 7   measure_info    18025 non-null  object \n",
      " 8   time_period     18025 non-null  object \n",
      " 9   message         0 non-null      float64\n",
      " 10  start_date      18025 non-null  object \n",
      " 11  unique_id       18025 non-null  int64  \n",
      "dtypes: float64(3), int64(2), object(7)\n",
      "memory usage: 1.7+ MB\n",
      "None\n"
     ]
    }
   ],
   "source": [
    "# cuenta el total de filas dentro de DataFrame_NYC_air_quality\n",
    "total_filas = df_NYC_air_quality.shape[0]\n",
    "print(\"La cantidad total de filas en el df_NYC_air_quality es:\", total_filas)\n",
    "\n",
    "# Obtiene información sobre el DataFrame_victimas\n",
    "print(df_NYC_air_quality.info())"
   ]
  },
  {
   "cell_type": "markdown",
   "metadata": {},
   "source": [
    "#### vemos el contenido dentro de la columna 'geo_place_name' con la finalidad de poder crear un diccionaro para poder normalizar los 'Borough'"
   ]
  },
  {
   "cell_type": "code",
   "execution_count": 5,
   "metadata": {},
   "outputs": [
    {
     "name": "stdout",
     "output_type": "stream",
     "text": [
      "Morrisania and Crotona (CD3)\n",
      "Bedford Stuyvesant (CD3)\n",
      "Tottenville and Great Kills (CD3)\n",
      "Chelsea-Village\n",
      "Bedford Stuyvesant - Crown Heights\n",
      "Flushing - Clearview\n",
      "Fordham - Bronx Pk\n",
      "Pelham - Throgs Neck\n",
      "East Harlem\n",
      "East New York\n",
      "Upper East Side-Gramercy\n",
      "South Beach - Tottenville\n",
      "Bayside - Little Neck\n",
      "Flushing and Whitestone (CD7)\n",
      "Flatbush and Midwood (CD14)\n",
      "Sunset Park\n",
      "Bayside Little Neck-Fresh Meadows\n",
      "Southeast Queens\n",
      "Bensonhurst - Bay Ridge\n",
      "Union Square-Lower Manhattan\n",
      "South Ozone Park and Howard Beach (CD10)\n",
      "Jamaica and Hollis (CD12)\n",
      "Throgs Neck and Co-op City (CD10)\n",
      "Borough Park (CD12)\n",
      "Williamsburg - Bushwick\n",
      "Ridgewood - Forest Hills\n",
      "Willowbrook\n",
      "Hillcrest and Fresh Meadows (CD8)\n",
      "Rego Park and Forest Hills (CD6)\n",
      "Clinton and Chelsea (CD4)\n",
      "Stuyvesant Town and Turtle Bay (CD6)\n",
      "Riverdale and Fieldston (CD8)\n",
      "South Beach and Willowbrook (CD2)\n",
      "Financial District (CD1)\n",
      "Woodside and Sunnyside (CD2)\n",
      "Greenpoint and Williamsburg (CD1)\n",
      "St. George and Stapleton (CD1)\n",
      "Fort Greene and Brooklyn Heights (CD2)\n",
      "Mott Haven and Melrose (CD1)\n",
      "Upper West Side\n",
      "Hunts Point and Longwood (CD2)\n",
      "Long Island City and Astoria (CD1)\n",
      "Coney Island - Sheepshead Bay\n",
      "Borough Park\n",
      "Manhattan\n",
      "High Bridge - Morrisania\n",
      "Union Square - Lower East Side\n",
      "Greenwich Village and Soho (CD2)\n",
      "Kingsbridge - Riverdale\n",
      "Northeast Bronx\n",
      "Greenpoint\n",
      "West Queens\n",
      "Jackson Heights (CD3)\n",
      "Flatlands and Canarsie (CD18)\n",
      "East Flatbush (CD17)\n",
      "Central Harlem - Morningside Heights\n",
      "Downtown - Heights - Slope\n",
      "Southwest Queens\n",
      "Washington Heights\n",
      "Upper West Side (CD7)\n",
      "Rockaway and Broad Channel (CD14)\n",
      "Kingsbridge Heights and Bedford (CD7)\n",
      "Staten Island\n",
      "Sunset Park (CD7)\n",
      "Williamsbridge and Baychester (CD12)\n",
      "Washington Heights and Inwood (CD12)\n",
      "Upper East Side (CD8)\n",
      "Long Island City - Astoria\n",
      "Port Richmond\n",
      "Bay Ridge and Dyker Heights (CD10)\n",
      "Central Harlem (CD10)\n",
      "New York City\n",
      "Jamaica\n",
      "Canarsie - Flatlands\n",
      "Coney Island (CD13)\n",
      "Sheepshead Bay (CD15)\n",
      "Queens\n",
      "Queens Village (CD13)\n",
      "Rockaways\n",
      "Lower Manhattan\n",
      "Crown Heights and Prospect Heights (CD8)\n",
      "Belmont and East Tremont (CD6)\n",
      "Park Slope and Carroll Gardens (CD6)\n",
      "Crotona -Tremont\n",
      "Upper East Side\n",
      "Ridgewood and Maspeth (CD5)\n",
      "Midtown (CD5)\n",
      "Fresh Meadows\n",
      "East Flatbush - Flatbush\n",
      "Fordham and University Heights (CD5)\n",
      "East New York and Starrett City (CD5)\n",
      "Chelsea - Clinton\n",
      "Bayside and Little Neck (CD11)\n",
      "East Harlem (CD11)\n",
      "Morningside Heights and Hamilton Heights (CD9)\n",
      "Bensonhurst (CD11)\n",
      "Morris Park and Bronxdale (CD11)\n",
      "Kew Gardens and Woodhaven (CD9)\n",
      "Stapleton - St. George\n",
      "South Crown Heights and Lefferts Gardens (CD9)\n",
      "Parkchester and Soundview (CD9)\n",
      "Brownsville (CD16)\n",
      "Gramercy Park - Murray Hill\n",
      "Greenwich Village - SoHo\n",
      "Hunts Point - Mott Haven\n",
      "Bronx\n",
      "Elmhurst and Corona (CD4)\n",
      "Highbridge and Concourse (CD4)\n",
      "Bushwick (CD4)\n",
      "Brooklyn\n",
      "Lower East Side and Chinatown (CD3)\n",
      "South Bronx\n",
      "Southern SI\n",
      "Northern SI\n",
      "nan\n"
     ]
    }
   ],
   "source": [
    "# Listar los elementos únicos de la columna 'geo_place_name'\n",
    "lugares_unicos = df_NYC_air_quality['geo_place_name'].unique()\n",
    "\n",
    "# Mostrar los lugares únicos\n",
    "for lugar in lugares_unicos:\n",
    "    print(lugar)\n"
   ]
  },
  {
   "cell_type": "markdown",
   "metadata": {},
   "source": [
    "#### exportamos todo el contenido de 'geo_place_name' a un csv"
   ]
  },
  {
   "cell_type": "code",
   "execution_count": 6,
   "metadata": {},
   "outputs": [
    {
     "name": "stdout",
     "output_type": "stream",
     "text": [
      "El archivo 'lugares_unicos.csv' se ha creado exitosamente.\n"
     ]
    }
   ],
   "source": [
    "# Crear un DataFrame con los lugares únicos\n",
    "df_lugares_unicos = pd.DataFrame(lugares_unicos, columns=['geo_place_name'])\n",
    "\n",
    "# Exportar el DataFrame de lugares únicos a un archivo CSV\n",
    "df_lugares_unicos.to_csv('lugares_unicos.csv', index=False)\n",
    "\n",
    "print(\"El archivo 'lugares_unicos.csv' se ha creado exitosamente.\")\n"
   ]
  },
  {
   "cell_type": "markdown",
   "metadata": {},
   "source": [
    "#### se crea un diccionaro con los lugares_unicos para poder asociarlos a cada 'Borough'"
   ]
  },
  {
   "cell_type": "code",
   "execution_count": 7,
   "metadata": {},
   "outputs": [
    {
     "name": "stdout",
     "output_type": "stream",
     "text": [
      "   indicator_id                          name                       measure  \\\n",
      "0           646  Outdoor Air Toxics - Benzene  Annual average concentration   \n",
      "1           646  Outdoor Air Toxics - Benzene  Annual average concentration   \n",
      "2           646  Outdoor Air Toxics - Benzene  Annual average concentration   \n",
      "3           375        Nitrogen dioxide (NO2)                          Mean   \n",
      "4           375        Nitrogen dioxide (NO2)                          Mean   \n",
      "\n",
      "  geo_type_name  geo_join_id  data_value                      geo_place_name  \\\n",
      "0            CD        203.0         1.4        Morrisania and Crotona (CD3)   \n",
      "1            CD        303.0         1.4            Bedford Stuyvesant (CD3)   \n",
      "2            CD        503.0         1.1   Tottenville and Great Kills (CD3)   \n",
      "3         UHF34     306308.0        32.9                     Chelsea-Village   \n",
      "4         UHF34        203.0        22.9  Bedford Stuyvesant - Crown Heights   \n",
      "\n",
      "  measure_info          time_period  message               start_date  \\\n",
      "0       Âµg/m3                 2011      NaN  2011-01-01T00:00:00.000   \n",
      "1       Âµg/m3                 2011      NaN  2011-01-01T00:00:00.000   \n",
      "2       Âµg/m3                 2011      NaN  2011-01-01T00:00:00.000   \n",
      "3          ppb  Annual Average 2012      NaN  2011-12-01T00:00:00.000   \n",
      "4          ppb  Annual Average 2012      NaN  2011-12-01T00:00:00.000   \n",
      "\n",
      "   unique_id        borough  \n",
      "0     227582          Bronx  \n",
      "1     227594       Brooklyn  \n",
      "2     227626  Staten Island  \n",
      "3     172709      Manhattan  \n",
      "4     172687       Brooklyn  \n"
     ]
    }
   ],
   "source": [
    "# Mapeo de geo_place_name a borough\n",
    "mapeo_lugares_a_borough = {\n",
    "    'Morrisania and Crotona (CD3)': 'Bronx',\n",
    "    'Bedford Stuyvesant (CD3)': 'Brooklyn',\n",
    "    'Tottenville and Great Kills (CD3)': 'Staten Island',\n",
    "    'Chelsea-Village': 'Manhattan',\n",
    "    'Bedford Stuyvesant - Crown Heights': 'Brooklyn',\n",
    "    'Flushing - Clearview': 'Queens',\n",
    "    'Fordham - Bronx Pk': 'Bronx',\n",
    "    'Pelham - Throgs Neck': 'Bronx',\n",
    "    'East Harlem': 'Manhattan',\n",
    "    'East New York': 'Brooklyn',\n",
    "    'Upper East Side-Gramercy': 'Manhattan',\n",
    "    'South Beach - Tottenville': 'Staten Island',\n",
    "    'Bayside - Little Neck': 'Queens',\n",
    "    'Flushing and Whitestone (CD7)': 'Queens',\n",
    "    'Flatbush and Midwood (CD14)': 'Brooklyn',\n",
    "    'Sunset Park': 'Brooklyn',\n",
    "    'Bayside Little Neck-Fresh Meadows': 'Queens',\n",
    "    'Southeast Queens': 'Queens',\n",
    "    'Bensonhurst - Bay Ridge': 'Brooklyn',\n",
    "    'Union Square-Lower Manhattan': 'Manhattan',\n",
    "    'South Ozone Park and Howard Beach (CD10)': 'Queens',\n",
    "    'Jamaica and Hollis (CD12)': 'Queens',\n",
    "    'Throgs Neck and Co-op City (CD10)': 'Bronx',\n",
    "    'Borough Park (CD12)': 'Brooklyn',\n",
    "    'Williamsburg - Bushwick': 'Brooklyn',\n",
    "    'Ridgewood - Forest Hills': 'Queens',\n",
    "    'Willowbrook': 'Staten Island',\n",
    "    'Hillcrest and Fresh Meadows (CD8)': 'Queens',\n",
    "    'Rego Park and Forest Hills (CD6)': 'Queens',\n",
    "    'Clinton and Chelsea (CD4)': 'Manhattan',\n",
    "    'Stuyvesant Town and Turtle Bay (CD6)': 'Manhattan',\n",
    "    'Riverdale and Fieldston (CD8)': 'Bronx',\n",
    "    'South Beach and Willowbrook (CD2)': 'Staten Island',\n",
    "    'Financial District (CD1)': 'Manhattan',\n",
    "    'Woodside and Sunnyside (CD2)': 'Queens',\n",
    "    'Greenpoint and Williamsburg (CD1)': 'Brooklyn',\n",
    "    'St. George and Stapleton (CD1)': 'Staten Island',\n",
    "    'Fort Greene and Brooklyn Heights (CD2)': 'Brooklyn',\n",
    "    'Mott Haven and Melrose (CD1)': 'Bronx',\n",
    "    'Upper West Side': 'Manhattan',\n",
    "    'Hunts Point and Longwood (CD2)': 'Bronx',\n",
    "    'Long Island City and Astoria (CD1)': 'Queens',\n",
    "    'Coney Island - Sheepshead Bay': 'Brooklyn',\n",
    "    'Manhattan': 'Manhattan',\n",
    "    'High Bridge - Morrisania': 'Bronx',\n",
    "    'Union Square - Lower East Side': 'Manhattan',\n",
    "    'Greenwich Village and Soho (CD2)': 'Manhattan',\n",
    "    'Kingsbridge - Riverdale': 'Bronx',\n",
    "    'Northeast Bronx': 'Bronx',\n",
    "    'West Queens': 'Queens',\n",
    "    'Jackson Heights (CD3)': 'Queens',\n",
    "    'Flatlands and Canarsie (CD18)': 'Brooklyn',\n",
    "    'East Flatbush (CD17)': 'Brooklyn',\n",
    "    'Central Harlem - Morningside Heights': 'Manhattan',\n",
    "    'Downtown - Heights - Slope': 'Brooklyn',\n",
    "    'Southwest Queens': 'Queens',\n",
    "    'Washington Heights': 'Manhattan',\n",
    "    'Upper West Side (CD7)': 'Manhattan',\n",
    "    'Rockaway and Broad Channel (CD14)': 'Queens',\n",
    "    'Kingsbridge Heights and Bedford (CD7)': 'Bronx',\n",
    "    'Sunset Park (CD7)': 'Brooklyn',\n",
    "    'Williamsbridge and Baychester (CD12)': 'Bronx',\n",
    "    'Washington Heights and Inwood (CD12)': 'Manhattan',\n",
    "    'Upper East Side (CD8)': 'Manhattan',\n",
    "    'Long Island City - Astoria': 'Queens',\n",
    "    'Port Richmond': 'Staten Island',\n",
    "    'Bay Ridge and Dyker Heights (CD10)': 'Brooklyn',\n",
    "    'Central Harlem (CD10)': 'Manhattan',\n",
    "    'New York City': 'Manhattan',\n",
    "    'Jamaica': 'Queens',\n",
    "    'Canarsie - Flatlands': 'Brooklyn',\n",
    "    'Coney Island (CD13)': 'Brooklyn',\n",
    "    'Sheepshead Bay (CD15)': 'Brooklyn',\n",
    "    'Queens': 'Queens',\n",
    "    'Queens Village (CD13)': 'Queens',\n",
    "    'Rockaways': 'Queens',\n",
    "    'Lower Manhattan': 'Manhattan',\n",
    "    'Crown Heights and Prospect Heights (CD8)': 'Brooklyn',\n",
    "    'Belmont and East Tremont (CD6)': 'Bronx',\n",
    "    'Park Slope and Carroll Gardens (CD6)': 'Brooklyn',\n",
    "    'Crotona -Tremont': 'Bronx',\n",
    "    'Upper East Side': 'Manhattan',\n",
    "    'Ridgewood and Maspeth (CD5)': 'Queens',\n",
    "    'Midtown (CD5)': 'Manhattan',\n",
    "    'Fresh Meadows': 'Queens',\n",
    "    'East Flatbush - Flatbush': 'Brooklyn',\n",
    "    'Fordham and University Heights (CD5)': 'Bronx',\n",
    "    'East New York and Starrett City (CD5)': 'Brooklyn',\n",
    "    'Chelsea - Clinton': 'Manhattan',\n",
    "    'Bayside and Little Neck (CD11)': 'Queens',\n",
    "    'East Harlem (CD11)': 'Manhattan',\n",
    "    'Morningside Heights and Hamilton Heights (CD9)': 'Manhattan',\n",
    "    'Bensonhurst (CD11)': 'Brooklyn',\n",
    "    'Morris Park and Bronxdale (CD11)': 'Bronx',\n",
    "    'Kew Gardens and Woodhaven (CD9)': 'Queens',\n",
    "    'Stapleton - St. George': 'Staten Island',\n",
    "    'South Crown Heights and Lefferts Gardens (CD9)': 'Brooklyn',\n",
    "    'Parkchester and Soundview (CD9)': 'Bronx',\n",
    "    'Brownsville (CD16)': 'Brooklyn',\n",
    "    'Gramercy Park - Murray Hill': 'Manhattan',\n",
    "    'Greenwich Village - SoHo': 'Manhattan',\n",
    "    'Hunts Point - Mott Haven': 'Bronx',\n",
    "    'Bronx': 'Bronx',\n",
    "    'Elmhurst and Corona (CD4)': 'Queens',\n",
    "    'Highbridge and Concourse (CD4)': 'Bronx',\n",
    "    'Bushwick (CD4)': 'Brooklyn',\n",
    "    'Brooklyn': 'Brooklyn',\n",
    "    'Lower East Side and Chinatown (CD3)': 'Manhattan',\n",
    "    'South Bronx': 'Bronx',\n",
    "    'Southern SI': 'Staten Island',\n",
    "    'Northern SI': 'Staten Island'\n",
    "}\n",
    "\n",
    "\n",
    "# Agregar nueva columna 'borough' al DataFrame original\n",
    "df_NYC_air_quality['borough'] = df_NYC_air_quality['geo_place_name'].map(mapeo_lugares_a_borough)\n",
    "\n",
    "# Verificar el resultado\n",
    "print(df_NYC_air_quality.head())\n"
   ]
  },
  {
   "cell_type": "markdown",
   "metadata": {},
   "source": [
    "#### volvemos a ver nuevamente el data frame para verificar si a cada 'geo_place_name' se les asigno bien su respectivo 'Borough'"
   ]
  },
  {
   "cell_type": "code",
   "execution_count": 8,
   "metadata": {},
   "outputs": [
    {
     "name": "stdout",
     "output_type": "stream",
     "text": [
      "<class 'pandas.core.frame.DataFrame'>\n",
      "RangeIndex: 18025 entries, 0 to 18024\n",
      "Data columns (total 13 columns):\n",
      " #   Column          Non-Null Count  Dtype  \n",
      "---  ------          --------------  -----  \n",
      " 0   indicator_id    18025 non-null  int64  \n",
      " 1   name            18025 non-null  object \n",
      " 2   measure         18025 non-null  object \n",
      " 3   geo_type_name   18025 non-null  object \n",
      " 4   geo_join_id     18016 non-null  float64\n",
      " 5   data_value      18025 non-null  float64\n",
      " 6   geo_place_name  18016 non-null  object \n",
      " 7   measure_info    18025 non-null  object \n",
      " 8   time_period     18025 non-null  object \n",
      " 9   message         0 non-null      float64\n",
      " 10  start_date      18025 non-null  object \n",
      " 11  unique_id       18025 non-null  int64  \n",
      " 12  borough         17308 non-null  object \n",
      "dtypes: float64(3), int64(2), object(8)\n",
      "memory usage: 1.8+ MB\n",
      "None\n"
     ]
    }
   ],
   "source": [
    "# Obtiene información sobre el DataFrame_victimas\n",
    "print(df_NYC_air_quality.info())"
   ]
  },
  {
   "cell_type": "markdown",
   "metadata": {},
   "source": [
    "#### se filtra para saber a que elemento de 'geo_place_name' no se le asigno su 'borough'"
   ]
  },
  {
   "cell_type": "code",
   "execution_count": 9,
   "metadata": {},
   "outputs": [
    {
     "name": "stdout",
     "output_type": "stream",
     "text": [
      "Borough Park\n",
      "Greenpoint\n",
      "Staten Island\n",
      "nan\n"
     ]
    }
   ],
   "source": [
    "# Filtrar el DataFrame para las filas donde 'borough' es nulo\n",
    "filas_sin_borough = df_NYC_air_quality[df_NYC_air_quality['borough'].isnull()]\n",
    "\n",
    "# Obtener los elementos únicos de 'geo_place_name' sin 'borough'\n",
    "lugares_sin_borough_unicos = filas_sin_borough['geo_place_name'].unique()\n",
    "\n",
    "# Imprimir los elementos únicos sin 'borough'\n",
    "for lugar in lugares_sin_borough_unicos:\n",
    "    print(lugar)\n"
   ]
  },
  {
   "cell_type": "markdown",
   "metadata": {},
   "source": [
    "#### asignamos nuevamente a cada  'geo_place_name' su 'borough'"
   ]
  },
  {
   "cell_type": "code",
   "execution_count": 10,
   "metadata": {},
   "outputs": [
    {
     "name": "stdout",
     "output_type": "stream",
     "text": [
      "      geo_place_name        borough\n",
      "155     Borough Park       Brooklyn\n",
      "163     Borough Park       Brooklyn\n",
      "188       Greenpoint       Brooklyn\n",
      "212       Greenpoint       Brooklyn\n",
      "235    Staten Island  Staten Island\n",
      "...              ...            ...\n",
      "17235     Greenpoint       Brooklyn\n",
      "17414     Greenpoint       Brooklyn\n",
      "17546     Greenpoint       Brooklyn\n",
      "17973     Greenpoint       Brooklyn\n",
      "17977     Greenpoint       Brooklyn\n",
      "\n",
      "[708 rows x 2 columns]\n"
     ]
    }
   ],
   "source": [
    "# Mapeo adicional para los lugares identificados\n",
    "mapeo_lugares_adicional = {\n",
    "    'Borough Park': 'Brooklyn',\n",
    "    'Greenpoint': 'Brooklyn',\n",
    "    'Staten Island': 'Staten Island'\n",
    "}\n",
    "\n",
    "# Actualizar el DataFrame para asignar los boroughs correspondientes\n",
    "df_NYC_air_quality.loc[df_NYC_air_quality['geo_place_name'].isin(mapeo_lugares_adicional.keys()), 'borough'] = df_NYC_air_quality['geo_place_name'].map(mapeo_lugares_adicional)\n",
    "\n",
    "# Verificar que se hayan actualizado correctamente\n",
    "print(df_NYC_air_quality[df_NYC_air_quality['geo_place_name'].isin(mapeo_lugares_adicional.keys())][['geo_place_name', 'borough']])\n"
   ]
  },
  {
   "cell_type": "markdown",
   "metadata": {},
   "source": [
    "#### revizamos nuevamente si los 'geo_place_name' tienen asignado su 'borough'"
   ]
  },
  {
   "cell_type": "code",
   "execution_count": 11,
   "metadata": {},
   "outputs": [
    {
     "name": "stdout",
     "output_type": "stream",
     "text": [
      "<class 'pandas.core.frame.DataFrame'>\n",
      "RangeIndex: 18025 entries, 0 to 18024\n",
      "Data columns (total 13 columns):\n",
      " #   Column          Non-Null Count  Dtype  \n",
      "---  ------          --------------  -----  \n",
      " 0   indicator_id    18025 non-null  int64  \n",
      " 1   name            18025 non-null  object \n",
      " 2   measure         18025 non-null  object \n",
      " 3   geo_type_name   18025 non-null  object \n",
      " 4   geo_join_id     18016 non-null  float64\n",
      " 5   data_value      18025 non-null  float64\n",
      " 6   geo_place_name  18016 non-null  object \n",
      " 7   measure_info    18025 non-null  object \n",
      " 8   time_period     18025 non-null  object \n",
      " 9   message         0 non-null      float64\n",
      " 10  start_date      18025 non-null  object \n",
      " 11  unique_id       18025 non-null  int64  \n",
      " 12  borough         18016 non-null  object \n",
      "dtypes: float64(3), int64(2), object(8)\n",
      "memory usage: 1.8+ MB\n",
      "None\n"
     ]
    }
   ],
   "source": [
    "# Obtiene información sobre el DataFrame_victimas\n",
    "print(df_NYC_air_quality.info())"
   ]
  },
  {
   "cell_type": "code",
   "execution_count": 12,
   "metadata": {},
   "outputs": [
    {
     "name": "stdout",
     "output_type": "stream",
     "text": [
      "Annual average concentration\n",
      "Mean\n",
      "Million miles\n",
      "Estimated annual rate (under age 18)\n",
      "Estimated annual rate\n",
      "Estimated annual rate (age 30+)\n",
      "Estimated annual rate (age 18+)\n",
      "Number per km2\n"
     ]
    }
   ],
   "source": [
    "# Obtener los elementos únicos de la columna 'measure'\n",
    "medidas_unicas = df_NYC_air_quality['measure'].unique()\n",
    "\n",
    "# Imprimir los elementos únicos\n",
    "for medida in medidas_unicas:\n",
    "    print(medida)\n"
   ]
  },
  {
   "cell_type": "markdown",
   "metadata": {},
   "source": [
    "#### se eliminan las columnas que no son necesarias para el estudio del la contaminacion en NYC"
   ]
  },
  {
   "cell_type": "code",
   "execution_count": 13,
   "metadata": {},
   "outputs": [],
   "source": [
    "# Lista de columnas a eliminar\n",
    "columnas_a_eliminar = ['indicator_id','measure','geo_type_name','geo_join_id','geo_place_name','time_period','message','unique_id']\n",
    "\n",
    "# Eliminar las columnas\n",
    "df_NYC_air_quality = df_NYC_air_quality.drop(columnas_a_eliminar, axis=1)"
   ]
  },
  {
   "cell_type": "markdown",
   "metadata": {},
   "source": [
    "### eliminamos los valores que no son referencia a la contaminacion producto de los automoviles, como referencia a hospitalizaciones por enfermedades respiratorias y la contaminacion producto de calderas "
   ]
  },
  {
   "cell_type": "code",
   "execution_count": 14,
   "metadata": {},
   "outputs": [],
   "source": [
    "# Lista de valores a eliminar\n",
    "valores_a_eliminar = [\n",
    "    'Asthma emergency department visits due to PM2.5',\n",
    "    'Cardiac and respiratory deaths due to Ozone',\n",
    "    'Deaths due to PM2.5',\n",
    "    'Respiratory hospitalizations due to PM2.5 (age 20+)',\n",
    "    'Asthma hospitalizations due to Ozone',\n",
    "    'Asthma emergency departments visits due to Ozone',\n",
    "    'Cardiovascular hospitalizations due to PM2.5 (age 40+)',\n",
    "    'Boiler Emissions- Total NOx Emissions',\n",
    "    'Boiler Emissions- Total PM2.5 Emissions',\n",
    "    'Boiler Emissions- Total SO2 Emissions',\n",
    "    'Annual vehicle miles traveled (trucks)',\n",
    "    'Annual vehicle miles traveled (cars)',\n",
    "    'Annual vehicle miles traveled'\n",
    "]\n",
    "\n",
    "# Eliminar las filas que contienen los valores especificados en la columna 'contaminante'\n",
    "df_NYC_air_quality = df_NYC_air_quality[~df_NYC_air_quality['name'].isin(valores_a_eliminar)]"
   ]
  },
  {
   "cell_type": "markdown",
   "metadata": {},
   "source": [
    "### normalizamos la unidadad de medida "
   ]
  },
  {
   "cell_type": "code",
   "execution_count": 15,
   "metadata": {},
   "outputs": [],
   "source": [
    "# Reemplazar los valores \"Âµg/m3\" por \"mcg/m3\" en la columna 'measure_info' tratando la codificación incorrecta\n",
    "df_NYC_air_quality.loc[:, 'measure_info'] = df_NYC_air_quality['measure_info'].str.replace(\"Âµg/m3\", \"mcg/m3\", regex=False)\n"
   ]
  },
  {
   "cell_type": "markdown",
   "metadata": {},
   "source": [
    "### transformar la columna 'inicio_medicion' en datetime"
   ]
  },
  {
   "cell_type": "code",
   "execution_count": 16,
   "metadata": {},
   "outputs": [
    {
     "name": "stdout",
     "output_type": "stream",
     "text": [
      "<class 'pandas.core.frame.DataFrame'>\n",
      "Index: 14365 entries, 0 to 18024\n",
      "Data columns (total 5 columns):\n",
      " #   Column        Non-Null Count  Dtype         \n",
      "---  ------        --------------  -----         \n",
      " 0   name          14365 non-null  object        \n",
      " 1   data_value    14365 non-null  float64       \n",
      " 2   measure_info  14365 non-null  object        \n",
      " 3   start_date    14365 non-null  datetime64[ns]\n",
      " 4   borough       14365 non-null  object        \n",
      "dtypes: datetime64[ns](1), float64(1), object(3)\n",
      "memory usage: 673.4+ KB\n",
      "None\n"
     ]
    }
   ],
   "source": [
    "# Convertir la columna 'start_date' a tipo datetime usando .astype()\n",
    "df_NYC_air_quality['start_date'] = df_NYC_air_quality['start_date'].astype('datetime64[ns]')\n",
    "\n",
    "\n",
    "# Verificar el resultado\n",
    "print(df_NYC_air_quality.info())\n"
   ]
  },
  {
   "cell_type": "markdown",
   "metadata": {},
   "source": [
    "#### ordenamos el dataset en funcion de 'start_date' de manera acendente "
   ]
  },
  {
   "cell_type": "code",
   "execution_count": 17,
   "metadata": {},
   "outputs": [
    {
     "name": "stdout",
     "output_type": "stream",
     "text": [
      "                                   name  data_value measure_info start_date  \\\n",
      "6539       Outdoor Air Toxics - Benzene         2.7       mcg/m3 2005-01-01   \n",
      "5051  Outdoor Air Toxics - Formaldehyde         4.0       mcg/m3 2005-01-01   \n",
      "6559  Outdoor Air Toxics - Formaldehyde         3.0       mcg/m3 2005-01-01   \n",
      "5050  Outdoor Air Toxics - Formaldehyde         2.3       mcg/m3 2005-01-01   \n",
      "5025  Outdoor Air Toxics - Formaldehyde         2.7       mcg/m3 2005-01-01   \n",
      "\n",
      "            borough  \n",
      "6539         Queens  \n",
      "5051      Manhattan  \n",
      "6559       Brooklyn  \n",
      "5050  Staten Island  \n",
      "5025         Queens  \n"
     ]
    }
   ],
   "source": [
    "# Ordenar el DataFrame en función de 'start_date' en orden ascendente\n",
    "df_NYC_air_quality = df_NYC_air_quality.sort_values(by='start_date', ascending=True)\n",
    "\n",
    "# Verificar el resultado\n",
    "print(df_NYC_air_quality.head())  # Muestra las primeras filas del DataFrame ordenado\n"
   ]
  },
  {
   "cell_type": "markdown",
   "metadata": {},
   "source": [
    "#### cambiamos el nombre a las columnas 'name', 'start_date', 'borough'"
   ]
  },
  {
   "cell_type": "code",
   "execution_count": 18,
   "metadata": {},
   "outputs": [],
   "source": [
    "df_NYC_air_quality = df_NYC_air_quality.rename(columns={\n",
    "    'name': 'contaminante',\n",
    "    'start_date': 'fecha',\n",
    "    'borough': 'Barrio'\n",
    "})"
   ]
  },
  {
   "cell_type": "markdown",
   "metadata": {},
   "source": [
    "#### crea el archivo parquet y csv"
   ]
  },
  {
   "cell_type": "code",
   "execution_count": 19,
   "metadata": {},
   "outputs": [],
   "source": [
    "# Guardar el DataFrame en un archivo CSV llamado 'NYC_air_quality_clean.csv' y en un archivo PARQUET 'NYC_air_quality.parquet'\n",
    "df_NYC_air_quality.to_csv('NYC_air_quality.csv', index=False)\n",
    "df_NYC_air_quality.to_parquet('NYC_air_quality.parquet', index=False)"
   ]
  }
 ],
 "metadata": {
  "kernelspec": {
   "display_name": "Python 3",
   "language": "python",
   "name": "python3"
  },
  "language_info": {
   "codemirror_mode": {
    "name": "ipython",
    "version": 3
   },
   "file_extension": ".py",
   "mimetype": "text/x-python",
   "name": "python",
   "nbconvert_exporter": "python",
   "pygments_lexer": "ipython3",
   "version": "3.12.1"
  }
 },
 "nbformat": 4,
 "nbformat_minor": 2
}
