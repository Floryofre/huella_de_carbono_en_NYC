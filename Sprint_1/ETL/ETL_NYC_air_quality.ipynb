{
 "cells": [
  {
   "cell_type": "code",
   "execution_count": 83,
   "metadata": {},
   "outputs": [],
   "source": [
    "import pandas as pd"
   ]
  },
  {
   "cell_type": "markdown",
   "metadata": {},
   "source": [
    "#### carga de archivo csv"
   ]
  },
  {
   "cell_type": "code",
   "execution_count": 84,
   "metadata": {},
   "outputs": [],
   "source": [
    "# Lee el archivo CSV\n",
    "df_NYC_air_quality = pd.read_csv('NYC_air_quality_raw.csv')"
   ]
  },
  {
   "cell_type": "code",
   "execution_count": 85,
   "metadata": {},
   "outputs": [
    {
     "data": {
      "text/html": [
       "<div>\n",
       "<style scoped>\n",
       "    .dataframe tbody tr th:only-of-type {\n",
       "        vertical-align: middle;\n",
       "    }\n",
       "\n",
       "    .dataframe tbody tr th {\n",
       "        vertical-align: top;\n",
       "    }\n",
       "\n",
       "    .dataframe thead th {\n",
       "        text-align: right;\n",
       "    }\n",
       "</style>\n",
       "<table border=\"1\" class=\"dataframe\">\n",
       "  <thead>\n",
       "    <tr style=\"text-align: right;\">\n",
       "      <th></th>\n",
       "      <th>indicator_id</th>\n",
       "      <th>name</th>\n",
       "      <th>measure</th>\n",
       "      <th>geo_type_name</th>\n",
       "      <th>geo_join_id</th>\n",
       "      <th>data_value</th>\n",
       "      <th>geo_place_name</th>\n",
       "      <th>measure_info</th>\n",
       "      <th>time_period</th>\n",
       "      <th>message</th>\n",
       "      <th>start_date</th>\n",
       "      <th>unique_id</th>\n",
       "    </tr>\n",
       "  </thead>\n",
       "  <tbody>\n",
       "    <tr>\n",
       "      <th>0</th>\n",
       "      <td>646</td>\n",
       "      <td>Outdoor Air Toxics - Benzene</td>\n",
       "      <td>Annual average concentration</td>\n",
       "      <td>CD</td>\n",
       "      <td>203.0</td>\n",
       "      <td>1.4</td>\n",
       "      <td>Morrisania and Crotona (CD3)</td>\n",
       "      <td>Âµg/m3</td>\n",
       "      <td>2011</td>\n",
       "      <td>NaN</td>\n",
       "      <td>2011-01-01T00:00:00.000</td>\n",
       "      <td>227582</td>\n",
       "    </tr>\n",
       "    <tr>\n",
       "      <th>1</th>\n",
       "      <td>646</td>\n",
       "      <td>Outdoor Air Toxics - Benzene</td>\n",
       "      <td>Annual average concentration</td>\n",
       "      <td>CD</td>\n",
       "      <td>303.0</td>\n",
       "      <td>1.4</td>\n",
       "      <td>Bedford Stuyvesant (CD3)</td>\n",
       "      <td>Âµg/m3</td>\n",
       "      <td>2011</td>\n",
       "      <td>NaN</td>\n",
       "      <td>2011-01-01T00:00:00.000</td>\n",
       "      <td>227594</td>\n",
       "    </tr>\n",
       "    <tr>\n",
       "      <th>2</th>\n",
       "      <td>646</td>\n",
       "      <td>Outdoor Air Toxics - Benzene</td>\n",
       "      <td>Annual average concentration</td>\n",
       "      <td>CD</td>\n",
       "      <td>503.0</td>\n",
       "      <td>1.1</td>\n",
       "      <td>Tottenville and Great Kills (CD3)</td>\n",
       "      <td>Âµg/m3</td>\n",
       "      <td>2011</td>\n",
       "      <td>NaN</td>\n",
       "      <td>2011-01-01T00:00:00.000</td>\n",
       "      <td>227626</td>\n",
       "    </tr>\n",
       "    <tr>\n",
       "      <th>3</th>\n",
       "      <td>375</td>\n",
       "      <td>Nitrogen dioxide (NO2)</td>\n",
       "      <td>Mean</td>\n",
       "      <td>UHF34</td>\n",
       "      <td>306308.0</td>\n",
       "      <td>32.9</td>\n",
       "      <td>Chelsea-Village</td>\n",
       "      <td>ppb</td>\n",
       "      <td>Annual Average 2012</td>\n",
       "      <td>NaN</td>\n",
       "      <td>2011-12-01T00:00:00.000</td>\n",
       "      <td>172709</td>\n",
       "    </tr>\n",
       "    <tr>\n",
       "      <th>4</th>\n",
       "      <td>375</td>\n",
       "      <td>Nitrogen dioxide (NO2)</td>\n",
       "      <td>Mean</td>\n",
       "      <td>UHF34</td>\n",
       "      <td>203.0</td>\n",
       "      <td>22.9</td>\n",
       "      <td>Bedford Stuyvesant - Crown Heights</td>\n",
       "      <td>ppb</td>\n",
       "      <td>Annual Average 2012</td>\n",
       "      <td>NaN</td>\n",
       "      <td>2011-12-01T00:00:00.000</td>\n",
       "      <td>172687</td>\n",
       "    </tr>\n",
       "    <tr>\n",
       "      <th>...</th>\n",
       "      <td>...</td>\n",
       "      <td>...</td>\n",
       "      <td>...</td>\n",
       "      <td>...</td>\n",
       "      <td>...</td>\n",
       "      <td>...</td>\n",
       "      <td>...</td>\n",
       "      <td>...</td>\n",
       "      <td>...</td>\n",
       "      <td>...</td>\n",
       "      <td>...</td>\n",
       "      <td>...</td>\n",
       "    </tr>\n",
       "    <tr>\n",
       "      <th>18020</th>\n",
       "      <td>365</td>\n",
       "      <td>Fine particles (PM 2.5)</td>\n",
       "      <td>Mean</td>\n",
       "      <td>CD</td>\n",
       "      <td>409.0</td>\n",
       "      <td>9.7</td>\n",
       "      <td>Kew Gardens and Woodhaven (CD9)</td>\n",
       "      <td>mcg/m3</td>\n",
       "      <td>Annual Average 2011</td>\n",
       "      <td>NaN</td>\n",
       "      <td>2010-12-01T00:00:00.000</td>\n",
       "      <td>170332</td>\n",
       "    </tr>\n",
       "    <tr>\n",
       "      <th>18021</th>\n",
       "      <td>365</td>\n",
       "      <td>Fine particles (PM 2.5)</td>\n",
       "      <td>Mean</td>\n",
       "      <td>CD</td>\n",
       "      <td>411.0</td>\n",
       "      <td>6.0</td>\n",
       "      <td>Bayside and Little Neck (CD11)</td>\n",
       "      <td>mcg/m3</td>\n",
       "      <td>Annual Average 2020</td>\n",
       "      <td>NaN</td>\n",
       "      <td>2020-01-01T00:00:00.000</td>\n",
       "      <td>669964</td>\n",
       "    </tr>\n",
       "    <tr>\n",
       "      <th>18022</th>\n",
       "      <td>365</td>\n",
       "      <td>Fine particles (PM 2.5)</td>\n",
       "      <td>Mean</td>\n",
       "      <td>CD</td>\n",
       "      <td>209.0</td>\n",
       "      <td>9.5</td>\n",
       "      <td>Parkchester and Soundview (CD9)</td>\n",
       "      <td>mcg/m3</td>\n",
       "      <td>Annual Average 2012</td>\n",
       "      <td>NaN</td>\n",
       "      <td>2011-12-01T00:00:00.000</td>\n",
       "      <td>170361</td>\n",
       "    </tr>\n",
       "    <tr>\n",
       "      <th>18023</th>\n",
       "      <td>365</td>\n",
       "      <td>Fine particles (PM 2.5)</td>\n",
       "      <td>Mean</td>\n",
       "      <td>CD</td>\n",
       "      <td>209.0</td>\n",
       "      <td>7.1</td>\n",
       "      <td>Parkchester and Soundview (CD9)</td>\n",
       "      <td>mcg/m3</td>\n",
       "      <td>Summer 2022</td>\n",
       "      <td>NaN</td>\n",
       "      <td>2022-06-01T00:00:00.000</td>\n",
       "      <td>823179</td>\n",
       "    </tr>\n",
       "    <tr>\n",
       "      <th>18024</th>\n",
       "      <td>375</td>\n",
       "      <td>Nitrogen dioxide (NO2)</td>\n",
       "      <td>Mean</td>\n",
       "      <td>CD</td>\n",
       "      <td>409.0</td>\n",
       "      <td>10.6</td>\n",
       "      <td>Kew Gardens and Woodhaven (CD9)</td>\n",
       "      <td>ppb</td>\n",
       "      <td>Summer 2022</td>\n",
       "      <td>NaN</td>\n",
       "      <td>2022-06-01T00:00:00.000</td>\n",
       "      <td>826375</td>\n",
       "    </tr>\n",
       "  </tbody>\n",
       "</table>\n",
       "<p>18025 rows × 12 columns</p>\n",
       "</div>"
      ],
      "text/plain": [
       "       indicator_id                          name  \\\n",
       "0               646  Outdoor Air Toxics - Benzene   \n",
       "1               646  Outdoor Air Toxics - Benzene   \n",
       "2               646  Outdoor Air Toxics - Benzene   \n",
       "3               375        Nitrogen dioxide (NO2)   \n",
       "4               375        Nitrogen dioxide (NO2)   \n",
       "...             ...                           ...   \n",
       "18020           365       Fine particles (PM 2.5)   \n",
       "18021           365       Fine particles (PM 2.5)   \n",
       "18022           365       Fine particles (PM 2.5)   \n",
       "18023           365       Fine particles (PM 2.5)   \n",
       "18024           375        Nitrogen dioxide (NO2)   \n",
       "\n",
       "                            measure geo_type_name  geo_join_id  data_value  \\\n",
       "0      Annual average concentration            CD        203.0         1.4   \n",
       "1      Annual average concentration            CD        303.0         1.4   \n",
       "2      Annual average concentration            CD        503.0         1.1   \n",
       "3                              Mean         UHF34     306308.0        32.9   \n",
       "4                              Mean         UHF34        203.0        22.9   \n",
       "...                             ...           ...          ...         ...   \n",
       "18020                          Mean            CD        409.0         9.7   \n",
       "18021                          Mean            CD        411.0         6.0   \n",
       "18022                          Mean            CD        209.0         9.5   \n",
       "18023                          Mean            CD        209.0         7.1   \n",
       "18024                          Mean            CD        409.0        10.6   \n",
       "\n",
       "                           geo_place_name measure_info          time_period  \\\n",
       "0            Morrisania and Crotona (CD3)       Âµg/m3                 2011   \n",
       "1                Bedford Stuyvesant (CD3)       Âµg/m3                 2011   \n",
       "2       Tottenville and Great Kills (CD3)       Âµg/m3                 2011   \n",
       "3                         Chelsea-Village          ppb  Annual Average 2012   \n",
       "4      Bedford Stuyvesant - Crown Heights          ppb  Annual Average 2012   \n",
       "...                                   ...          ...                  ...   \n",
       "18020     Kew Gardens and Woodhaven (CD9)       mcg/m3  Annual Average 2011   \n",
       "18021      Bayside and Little Neck (CD11)       mcg/m3  Annual Average 2020   \n",
       "18022     Parkchester and Soundview (CD9)       mcg/m3  Annual Average 2012   \n",
       "18023     Parkchester and Soundview (CD9)       mcg/m3          Summer 2022   \n",
       "18024     Kew Gardens and Woodhaven (CD9)          ppb          Summer 2022   \n",
       "\n",
       "       message               start_date  unique_id  \n",
       "0          NaN  2011-01-01T00:00:00.000     227582  \n",
       "1          NaN  2011-01-01T00:00:00.000     227594  \n",
       "2          NaN  2011-01-01T00:00:00.000     227626  \n",
       "3          NaN  2011-12-01T00:00:00.000     172709  \n",
       "4          NaN  2011-12-01T00:00:00.000     172687  \n",
       "...        ...                      ...        ...  \n",
       "18020      NaN  2010-12-01T00:00:00.000     170332  \n",
       "18021      NaN  2020-01-01T00:00:00.000     669964  \n",
       "18022      NaN  2011-12-01T00:00:00.000     170361  \n",
       "18023      NaN  2022-06-01T00:00:00.000     823179  \n",
       "18024      NaN  2022-06-01T00:00:00.000     826375  \n",
       "\n",
       "[18025 rows x 12 columns]"
      ]
     },
     "execution_count": 85,
     "metadata": {},
     "output_type": "execute_result"
    }
   ],
   "source": [
    "df_NYC_air_quality"
   ]
  },
  {
   "cell_type": "markdown",
   "metadata": {},
   "source": [
    "##### se procede a leer la informacion del DAtaFrames, con la finalidad de encontrar valores nulos y/o faltantes, a demas se saber con que tipo de datos estamos tratando"
   ]
  },
  {
   "cell_type": "code",
   "execution_count": 93,
   "metadata": {},
   "outputs": [
    {
     "name": "stdout",
     "output_type": "stream",
     "text": [
      "La cantidad total de filas en el df_NYC_air_quality es: 15328\n",
      "<class 'pandas.core.frame.DataFrame'>\n",
      "Index: 15328 entries, 0 to 18024\n",
      "Data columns (total 8 columns):\n",
      " #   Column             Non-Null Count  Dtype         \n",
      "---  ------             --------------  -----         \n",
      " 0   id_indicador       15328 non-null  int64         \n",
      " 1   contaminante       15328 non-null  object        \n",
      " 2   medicion           15328 non-null  object        \n",
      " 3   valor_medida       15328 non-null  float64       \n",
      " 4   nombre_del_barrio  15328 non-null  object        \n",
      " 5   unidad_de_medida   15328 non-null  object        \n",
      " 6   periodo_de_tiempo  15328 non-null  object        \n",
      " 7   inicio_medicion    15328 non-null  datetime64[ns]\n",
      "dtypes: datetime64[ns](1), float64(1), int64(1), object(5)\n",
      "memory usage: 1.1+ MB\n",
      "None\n"
     ]
    }
   ],
   "source": [
    "# cuenta el total de filas dentro de DataFrame_NYC_air_quality\n",
    "total_filas = df_NYC_air_quality.shape[0]\n",
    "print(\"La cantidad total de filas en el df_NYC_air_quality es:\", total_filas)\n",
    "\n",
    "# Obtiene información sobre el DataFrame_victimas\n",
    "print(df_NYC_air_quality.info())"
   ]
  },
  {
   "cell_type": "markdown",
   "metadata": {},
   "source": [
    "#### se eliminan las columnas que no son necesarias para el estudio del la contaminacion en NYC"
   ]
  },
  {
   "cell_type": "code",
   "execution_count": 87,
   "metadata": {},
   "outputs": [],
   "source": [
    "# Lista de columnas a eliminar\n",
    "columnas_a_eliminar = ['unique_id', 'message', 'geo_join_id', 'geo_type_name']\n",
    "\n",
    "# Eliminar las columnas\n",
    "df_NYC_air_quality = df_NYC_air_quality.drop(columnas_a_eliminar, axis=1)"
   ]
  },
  {
   "cell_type": "markdown",
   "metadata": {},
   "source": [
    "#### cambia los nombres de las columnas "
   ]
  },
  {
   "cell_type": "code",
   "execution_count": 88,
   "metadata": {},
   "outputs": [],
   "source": [
    "# Definir el diccionario de mapeo de nombres de columnas\n",
    "nuevos_nombres = {\n",
    "    'indicator_id': 'id_indicador',\n",
    "    'name': 'contaminante',\n",
    "    'measure': 'medicion',\n",
    "    'data_value': 'valor_medida',\n",
    "    'geo_place_name': 'nombre_del_barrio',\n",
    "    'measure_info': 'unidad_de_medida',\n",
    "    'time_period': 'periodo_de_tiempo',\n",
    "    'start_date': 'inicio_medicion'\n",
    "}\n",
    "\n",
    "# Renombrar las columnas\n",
    "df_NYC_air_quality = df_NYC_air_quality.rename(columns=nuevos_nombres)\n"
   ]
  },
  {
   "cell_type": "markdown",
   "metadata": {},
   "source": [
    "### eliminamos los valores que no son referencia a la contaminacion producto de los automoviles, como referencia a hospitalizaciones por enfermedades respiratorias y la contaminacion producto de calderas "
   ]
  },
  {
   "cell_type": "code",
   "execution_count": 89,
   "metadata": {},
   "outputs": [],
   "source": [
    "# Lista de valores a eliminar\n",
    "valores_a_eliminar = [\n",
    "    'Asthma emergency department visits due to PM2.5',\n",
    "    'Cardiac and respiratory deaths due to Ozone',\n",
    "    'Deaths due to PM2.5',\n",
    "    'Respiratory hospitalizations due to PM2.5 (age 20+)',\n",
    "    'Asthma hospitalizations due to Ozone',\n",
    "    'Asthma emergency departments visits due to Ozone',\n",
    "    'Cardiovascular hospitalizations due to PM2.5 (age 40+)',\n",
    "    'Boiler Emissions- Total NOx Emissions',\n",
    "    'Boiler Emissions- Total PM2.5 Emissions',\n",
    "    'Boiler Emissions- Total SO2 Emissions'\n",
    "]\n",
    "\n",
    "# Eliminar las filas que contienen los valores especificados en la columna 'contaminante'\n",
    "df_NYC_air_quality = df_NYC_air_quality[~df_NYC_air_quality['contaminante'].isin(valores_a_eliminar)]"
   ]
  },
  {
   "cell_type": "markdown",
   "metadata": {},
   "source": [
    "### normalizamos la unidadad de medida "
   ]
  },
  {
   "cell_type": "code",
   "execution_count": 90,
   "metadata": {},
   "outputs": [],
   "source": [
    "# Reemplaza todos los valores \"Âµg/m3\" por \"mcg/m3\" en la columna 'unidad_de_medida'\n",
    "df_NYC_air_quality['unidad_de_medida'] = df_NYC_air_quality['unidad_de_medida'].replace(\"Âµg/m3\", \"mcg/m3\", regex=True)"
   ]
  },
  {
   "cell_type": "markdown",
   "metadata": {},
   "source": [
    "### transformar la columna 'inicio_medicion' en datetime"
   ]
  },
  {
   "cell_type": "code",
   "execution_count": 91,
   "metadata": {},
   "outputs": [],
   "source": [
    "# Convertir la columna 'inicio_medicion' a datetime\n",
    "df_NYC_air_quality['inicio_medicion'] = pd.to_datetime(df_NYC_air_quality['inicio_medicion'])"
   ]
  },
  {
   "cell_type": "markdown",
   "metadata": {},
   "source": [
    "#### crea el archivo parquet y csv"
   ]
  },
  {
   "cell_type": "code",
   "execution_count": 92,
   "metadata": {},
   "outputs": [],
   "source": [
    "# Guardar el DataFrame en un archivo CSV llamado 'NYC_air_quality_clean.csv' y en un archivo PARQUET 'NYC_air_quality.parquet'\n",
    "df_NYC_air_quality.to_csv('NYC_air_quality.csv', index=False)\n",
    "df_NYC_air_quality.to_parquet('NYC_air_quality.parquet', index=False)"
   ]
  }
 ],
 "metadata": {
  "kernelspec": {
   "display_name": "Python 3",
   "language": "python",
   "name": "python3"
  },
  "language_info": {
   "codemirror_mode": {
    "name": "ipython",
    "version": 3
   },
   "file_extension": ".py",
   "mimetype": "text/x-python",
   "name": "python",
   "nbconvert_exporter": "python",
   "pygments_lexer": "ipython3",
   "version": "3.12.1"
  }
 },
 "nbformat": 4,
 "nbformat_minor": 2
}
