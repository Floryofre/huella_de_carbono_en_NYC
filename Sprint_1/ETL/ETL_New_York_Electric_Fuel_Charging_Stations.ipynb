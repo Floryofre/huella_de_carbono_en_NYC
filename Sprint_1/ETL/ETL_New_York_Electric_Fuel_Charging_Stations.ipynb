{
 "cells": [
  {
   "cell_type": "code",
   "execution_count": 10,
   "metadata": {},
   "outputs": [],
   "source": [
    "import pandas as pd\n",
    "from geopy.distance import geodesic"
   ]
  },
  {
   "cell_type": "markdown",
   "metadata": {},
   "source": [
    "### cargo el archivo de cargadores electricos"
   ]
  },
  {
   "cell_type": "code",
   "execution_count": 11,
   "metadata": {},
   "outputs": [],
   "source": [
    "\n",
    "# Leer los archivos CSV\n",
    "df = pd.read_csv('New_York_Electric_Fuel_Charging_Stations_raw.csv')"
   ]
  },
  {
   "cell_type": "markdown",
   "metadata": {},
   "source": [
    "### de la latitud y longitud organizo por barrio "
   ]
  },
  {
   "cell_type": "code",
   "execution_count": 12,
   "metadata": {},
   "outputs": [
    {
     "name": "stdout",
     "output_type": "stream",
     "text": [
      "                                  Station Name   Facility Type   Latitude  \\\n",
      "0                  Port Authority Bus Terminal  PARKING_GARAGE  40.756177   \n",
      "1                        United Parcel Service    FLEET_GARAGE  40.762442   \n",
      "2                                     Spectrum     OFFICE_BLDG  40.871210   \n",
      "3                   Central Parking - Tower 31         No data  40.747098   \n",
      "4                                 Tribeca Park         No data  40.717717   \n",
      "..                                         ...             ...        ...   \n",
      "374                             DOCK STATION 9         No data  40.761082   \n",
      "375                            DOCK STATION 10         No data  40.757839   \n",
      "376                      Lincoln Square Garage         No data  40.776152   \n",
      "377                              320 Mason Ave         No data  40.584984   \n",
      "378  Delancey & Essex Municipal Parking Garage  PARKING_GARAGE  40.719319   \n",
      "\n",
      "     Longitude Nearest_Borough  \n",
      "0   -73.990558       Manhattan  \n",
      "1   -74.000055       Manhattan  \n",
      "2   -73.911616           Bronx  \n",
      "3   -73.986641       Manhattan  \n",
      "4   -74.015049        Brooklyn  \n",
      "..         ...             ...  \n",
      "374 -73.968188       Manhattan  \n",
      "375 -73.984391       Manhattan  \n",
      "376 -73.982820       Manhattan  \n",
      "377 -74.088044   Staten Island  \n",
      "378 -73.988197        Brooklyn  \n",
      "\n",
      "[379 rows x 5 columns]\n"
     ]
    }
   ],
   "source": [
    "import pandas as pd\n",
    "from geopy.distance import geodesic\n",
    "\n",
    "# Coordenadas de los boroughs de la ciudad de Nueva York\n",
    "boroughs = {\n",
    "    'Bronx': (40.8448, -73.8648),\n",
    "    'Brooklyn': (40.6782, -73.9442),\n",
    "    'Manhattan': (40.7831, -73.9712),\n",
    "    'Queens': (40.7282, -73.7949),\n",
    "    'Staten Island': (40.5795, -74.1502)\n",
    "}\n",
    "\n",
    "# Función para encontrar el borough más cercano a las coordenadas dadas\n",
    "def find_nearest_borough(latitude, longitude):\n",
    "    min_distance = float('inf')\n",
    "    nearest_borough = None\n",
    "    \n",
    "    for borough, coords in boroughs.items():\n",
    "        distance = geodesic((latitude, longitude), coords).meters\n",
    "        if distance < min_distance:\n",
    "            min_distance = distance\n",
    "            nearest_borough = borough\n",
    "    \n",
    "    return nearest_borough\n",
    "\n",
    "# Leer el archivo CSV como un DataFrame\n",
    "df = pd.read_csv('New_York_Electric_Fuel_Charging_Stations_raw.csv')\n",
    "\n",
    "# Aplicar la función find_nearest_borough a cada fila del DataFrame\n",
    "df['Nearest_Borough'] = df.apply(lambda row: find_nearest_borough(row['Latitude'], row['Longitude']), axis=1)\n",
    "\n",
    "# Mostrar el DataFrame con la columna 'Nearest_Borough' agregada\n",
    "print(df)\n"
   ]
  },
  {
   "cell_type": "markdown",
   "metadata": {},
   "source": [
    "### obtengo la informacion del dataframe"
   ]
  },
  {
   "cell_type": "code",
   "execution_count": 13,
   "metadata": {},
   "outputs": [
    {
     "name": "stdout",
     "output_type": "stream",
     "text": [
      "<class 'pandas.core.frame.DataFrame'>\n",
      "RangeIndex: 379 entries, 0 to 378\n",
      "Data columns (total 5 columns):\n",
      " #   Column           Non-Null Count  Dtype  \n",
      "---  ------           --------------  -----  \n",
      " 0   Station Name     379 non-null    object \n",
      " 1   Facility Type    379 non-null    object \n",
      " 2   Latitude         379 non-null    float64\n",
      " 3   Longitude        379 non-null    float64\n",
      " 4   Nearest_Borough  379 non-null    object \n",
      "dtypes: float64(2), object(3)\n",
      "memory usage: 14.9+ KB\n",
      "None\n"
     ]
    }
   ],
   "source": [
    "# Obtiene información sobre el DataFrame_victimas\n",
    "print(df.info())"
   ]
  },
  {
   "cell_type": "markdown",
   "metadata": {},
   "source": [
    "### cambiamos nombre de las columnas "
   ]
  },
  {
   "cell_type": "code",
   "execution_count": 14,
   "metadata": {},
   "outputs": [
    {
     "name": "stdout",
     "output_type": "stream",
     "text": [
      "<class 'pandas.core.frame.DataFrame'>\n",
      "RangeIndex: 379 entries, 0 to 378\n",
      "Data columns (total 5 columns):\n",
      " #   Column                 Non-Null Count  Dtype  \n",
      "---  ------                 --------------  -----  \n",
      " 0   Nombre de la Estación  379 non-null    object \n",
      " 1   Tipo de Instalación    379 non-null    object \n",
      " 2   Latitude               379 non-null    float64\n",
      " 3   Longitude              379 non-null    float64\n",
      " 4   Barrio                 379 non-null    object \n",
      "dtypes: float64(2), object(3)\n",
      "memory usage: 14.9+ KB\n",
      "None\n"
     ]
    }
   ],
   "source": [
    "df.rename(columns={'Nearest_Borough': 'Barrio', 'Facility Type': 'Tipo de Instalación', 'Station Name': 'Nombre de la Estación'}, inplace=True)\n",
    "\n",
    "# Luego puedes verificar los cambios\n",
    "print(df.info())\n"
   ]
  },
  {
   "cell_type": "markdown",
   "metadata": {},
   "source": [
    "#### crea el archivo parquet y csv"
   ]
  },
  {
   "cell_type": "code",
   "execution_count": 15,
   "metadata": {},
   "outputs": [],
   "source": [
    "# Guardar el DataFrame en un archivo CSV llamado 'NYC_air_quality_clean.csv' y en un archivo PARQUET 'NYC_air_quality.parquet'\n",
    "df.to_csv('New_York_Electric_Fuel_Charging_Stations.csv', index=False)\n",
    "df.to_parquet('New_York_Electric_Fuel_Charging_Stations.parquet', index=False)"
   ]
  }
 ],
 "metadata": {
  "kernelspec": {
   "display_name": "Python 3",
   "language": "python",
   "name": "python3"
  },
  "language_info": {
   "codemirror_mode": {
    "name": "ipython",
    "version": 3
   },
   "file_extension": ".py",
   "mimetype": "text/x-python",
   "name": "python",
   "nbconvert_exporter": "python",
   "pygments_lexer": "ipython3",
   "version": "3.12.1"
  }
 },
 "nbformat": 4,
 "nbformat_minor": 2
}
