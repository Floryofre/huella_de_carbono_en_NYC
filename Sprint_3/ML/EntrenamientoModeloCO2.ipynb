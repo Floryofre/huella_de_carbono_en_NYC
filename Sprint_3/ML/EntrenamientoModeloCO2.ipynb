{
 "cells": [
  {
   "cell_type": "markdown",
   "id": "c9dd66d4-7120-4bdd-ba77-15ddcdec1358",
   "metadata": {},
   "source": [
    "# Inicio"
   ]
  },
  {
   "cell_type": "code",
   "execution_count": 136,
   "id": "526e786f-e0a8-4061-a639-33716be7ad31",
   "metadata": {
    "tags": []
   },
   "outputs": [],
   "source": [
    "import pandas as pd\n",
    "import numpy as np\n",
    "import re\n",
    "import os\n",
    "import json\n",
    "import boto3\n",
    "from datetime import date\n",
    "import pickle\n",
    "\n",
    "import warnings\n",
    "warnings.filterwarnings(\"ignore\")"
   ]
  },
  {
   "cell_type": "markdown",
   "id": "d33f97cc-25aa-44ad-ac99-ee64df11f65a",
   "metadata": {},
   "source": [
    "# Leer archivo"
   ]
  },
  {
   "cell_type": "code",
   "execution_count": 2,
   "id": "b781c8e8-c6df-4871-a19c-b80b511377d2",
   "metadata": {
    "tags": []
   },
   "outputs": [],
   "source": [
    "bucket = \"henry-pf\"\n",
    "nyc_co2 = \"datos-dashboard/MONTH=5/NYC_CO2/\""
   ]
  },
  {
   "cell_type": "code",
   "execution_count": 3,
   "id": "e7fd286f-3613-4d83-be54-6d8a5c9530a3",
   "metadata": {
    "tags": []
   },
   "outputs": [],
   "source": [
    "s3 = boto3.resource(\"s3\")\n",
    "s3_client = boto3.client(\"s3\")\n",
    "bucket = s3.Bucket(bucket)"
   ]
  },
  {
   "cell_type": "code",
   "execution_count": 4,
   "id": "ce68f115-271e-4b75-ae85-cbda208b8325",
   "metadata": {
    "tags": []
   },
   "outputs": [],
   "source": [
    "bucket = \"henry-pf\"\n",
    "data = s3_client.list_objects_v2(Bucket=bucket, Prefix=nyc_co2)"
   ]
  },
  {
   "cell_type": "code",
   "execution_count": 6,
   "id": "c4ab4031-37f5-4718-abb4-74ab0d308576",
   "metadata": {
    "tags": []
   },
   "outputs": [
    {
     "data": {
      "text/plain": [
       "s3.Object(bucket_name='henry-pf', key='datos-dashboard/MONTH=5/NYC_CO2/NYC_CO2.csv')"
      ]
     },
     "execution_count": 6,
     "metadata": {},
     "output_type": "execute_result"
    }
   ],
   "source": [
    "obj = s3.Object(bucket, key=data[\"Contents\"][1][\"Key\"])\n",
    "obj"
   ]
  },
  {
   "cell_type": "code",
   "execution_count": null,
   "id": "56d941c4-f8f5-485e-8556-e74cf69ba667",
   "metadata": {
    "tags": []
   },
   "outputs": [],
   "source": [
    "with open(\"NYC_CO2.csv\", \"wb\") as file:\n",
    "    obj.download_fileobj(file)"
   ]
  },
  {
   "cell_type": "code",
   "execution_count": 13,
   "id": "7453b6ae-1a8e-4f4a-bf8d-086fc3526dcc",
   "metadata": {
    "tags": []
   },
   "outputs": [
    {
     "data": {
      "text/html": [
       "<div>\n",
       "<style scoped>\n",
       "    .dataframe tbody tr th:only-of-type {\n",
       "        vertical-align: middle;\n",
       "    }\n",
       "\n",
       "    .dataframe tbody tr th {\n",
       "        vertical-align: top;\n",
       "    }\n",
       "\n",
       "    .dataframe thead th {\n",
       "        text-align: right;\n",
       "    }\n",
       "</style>\n",
       "<table border=\"1\" class=\"dataframe\">\n",
       "  <thead>\n",
       "    <tr style=\"text-align: right;\">\n",
       "      <th></th>\n",
       "      <th>Year</th>\n",
       "      <th>Total</th>\n",
       "    </tr>\n",
       "  </thead>\n",
       "  <tbody>\n",
       "    <tr>\n",
       "      <th>0</th>\n",
       "      <td>1970</td>\n",
       "      <td>284.91</td>\n",
       "    </tr>\n",
       "    <tr>\n",
       "      <th>1</th>\n",
       "      <td>1971</td>\n",
       "      <td>277.05</td>\n",
       "    </tr>\n",
       "    <tr>\n",
       "      <th>2</th>\n",
       "      <td>1972</td>\n",
       "      <td>274.09</td>\n",
       "    </tr>\n",
       "    <tr>\n",
       "      <th>3</th>\n",
       "      <td>1973</td>\n",
       "      <td>280.37</td>\n",
       "    </tr>\n",
       "    <tr>\n",
       "      <th>4</th>\n",
       "      <td>1974</td>\n",
       "      <td>258.79</td>\n",
       "    </tr>\n",
       "  </tbody>\n",
       "</table>\n",
       "</div>"
      ],
      "text/plain": [
       "   Year   Total\n",
       "0  1970  284.91\n",
       "1  1971  277.05\n",
       "2  1972  274.09\n",
       "3  1973  280.37\n",
       "4  1974  258.79"
      ]
     },
     "execution_count": 13,
     "metadata": {},
     "output_type": "execute_result"
    }
   ],
   "source": [
    "df = pd.read_csv(\"NYC_CO2.csv\")\n",
    "df.head()"
   ]
  },
  {
   "cell_type": "code",
   "execution_count": 24,
   "id": "4309a7ee-7af8-4dbc-9bf0-fdb6aa63a8c1",
   "metadata": {
    "tags": []
   },
   "outputs": [
    {
     "name": "stdout",
     "output_type": "stream",
     "text": [
      "<class 'pandas.core.frame.DataFrame'>\n",
      "RangeIndex: 52 entries, 0 to 51\n",
      "Data columns (total 2 columns):\n",
      " #   Column  Non-Null Count  Dtype  \n",
      "---  ------  --------------  -----  \n",
      " 0   Year    52 non-null     int64  \n",
      " 1   Total   52 non-null     float64\n",
      "dtypes: float64(1), int64(1)\n",
      "memory usage: 960.0 bytes\n"
     ]
    }
   ],
   "source": [
    "df.info()"
   ]
  },
  {
   "cell_type": "code",
   "execution_count": 26,
   "id": "605c59a1-5913-433a-8005-27af2d42a6c4",
   "metadata": {
    "tags": []
   },
   "outputs": [
    {
     "data": {
      "text/html": [
       "<div>\n",
       "<style scoped>\n",
       "    .dataframe tbody tr th:only-of-type {\n",
       "        vertical-align: middle;\n",
       "    }\n",
       "\n",
       "    .dataframe tbody tr th {\n",
       "        vertical-align: top;\n",
       "    }\n",
       "\n",
       "    .dataframe thead th {\n",
       "        text-align: right;\n",
       "    }\n",
       "</style>\n",
       "<table border=\"1\" class=\"dataframe\">\n",
       "  <thead>\n",
       "    <tr style=\"text-align: right;\">\n",
       "      <th></th>\n",
       "      <th>Year</th>\n",
       "      <th>Total</th>\n",
       "    </tr>\n",
       "  </thead>\n",
       "  <tbody>\n",
       "    <tr>\n",
       "      <th>count</th>\n",
       "      <td>52.000000</td>\n",
       "      <td>52.000000</td>\n",
       "    </tr>\n",
       "    <tr>\n",
       "      <th>mean</th>\n",
       "      <td>1995.500000</td>\n",
       "      <td>205.111923</td>\n",
       "    </tr>\n",
       "    <tr>\n",
       "      <th>std</th>\n",
       "      <td>15.154757</td>\n",
       "      <td>33.478172</td>\n",
       "    </tr>\n",
       "    <tr>\n",
       "      <th>min</th>\n",
       "      <td>1970.000000</td>\n",
       "      <td>143.420000</td>\n",
       "    </tr>\n",
       "    <tr>\n",
       "      <th>25%</th>\n",
       "      <td>1982.750000</td>\n",
       "      <td>181.807500</td>\n",
       "    </tr>\n",
       "    <tr>\n",
       "      <th>50%</th>\n",
       "      <td>1995.500000</td>\n",
       "      <td>199.885000</td>\n",
       "    </tr>\n",
       "    <tr>\n",
       "      <th>75%</th>\n",
       "      <td>2008.250000</td>\n",
       "      <td>213.252500</td>\n",
       "    </tr>\n",
       "    <tr>\n",
       "      <th>max</th>\n",
       "      <td>2021.000000</td>\n",
       "      <td>284.910000</td>\n",
       "    </tr>\n",
       "  </tbody>\n",
       "</table>\n",
       "</div>"
      ],
      "text/plain": [
       "              Year       Total\n",
       "count    52.000000   52.000000\n",
       "mean   1995.500000  205.111923\n",
       "std      15.154757   33.478172\n",
       "min    1970.000000  143.420000\n",
       "25%    1982.750000  181.807500\n",
       "50%    1995.500000  199.885000\n",
       "75%    2008.250000  213.252500\n",
       "max    2021.000000  284.910000"
      ]
     },
     "execution_count": 26,
     "metadata": {},
     "output_type": "execute_result"
    }
   ],
   "source": [
    "df.describe()"
   ]
  },
  {
   "cell_type": "code",
   "execution_count": 27,
   "id": "dc6666c5-1bfd-4dc4-bc03-ff246cd9a6a0",
   "metadata": {
    "tags": []
   },
   "outputs": [
    {
     "data": {
      "text/plain": [
       "<Axes: xlabel='Year'>"
      ]
     },
     "execution_count": 27,
     "metadata": {},
     "output_type": "execute_result"
    },
    {
     "data": {
      "image/png": "[encoded data removed]",
      "text/plain": [
       "<Figure size 640x480 with 1 Axes>"
      ]
     },
     "metadata": {},
     "output_type": "display_data"
    }
   ],
   "source": [
    "df.plot(x=\"Year\", y=\"Total\")"
   ]
  },
  {
   "cell_type": "code",
   "execution_count": 20,
   "id": "b87a7335-e6cf-4518-8a39-b3d295dbda72",
   "metadata": {
    "tags": []
   },
   "outputs": [
    {
     "data": {
      "text/html": [
       "<div>\n",
       "<style scoped>\n",
       "    .dataframe tbody tr th:only-of-type {\n",
       "        vertical-align: middle;\n",
       "    }\n",
       "\n",
       "    .dataframe tbody tr th {\n",
       "        vertical-align: top;\n",
       "    }\n",
       "\n",
       "    .dataframe thead th {\n",
       "        text-align: right;\n",
       "    }\n",
       "</style>\n",
       "<table border=\"1\" class=\"dataframe\">\n",
       "  <thead>\n",
       "    <tr style=\"text-align: right;\">\n",
       "      <th></th>\n",
       "      <th>Total</th>\n",
       "    </tr>\n",
       "    <tr>\n",
       "      <th>Year</th>\n",
       "      <th></th>\n",
       "    </tr>\n",
       "  </thead>\n",
       "  <tbody>\n",
       "    <tr>\n",
       "      <th>1970-01-01</th>\n",
       "      <td>284.91</td>\n",
       "    </tr>\n",
       "    <tr>\n",
       "      <th>1971-01-01</th>\n",
       "      <td>277.05</td>\n",
       "    </tr>\n",
       "    <tr>\n",
       "      <th>1972-01-01</th>\n",
       "      <td>274.09</td>\n",
       "    </tr>\n",
       "    <tr>\n",
       "      <th>1973-01-01</th>\n",
       "      <td>280.37</td>\n",
       "    </tr>\n",
       "    <tr>\n",
       "      <th>1974-01-01</th>\n",
       "      <td>258.79</td>\n",
       "    </tr>\n",
       "  </tbody>\n",
       "</table>\n",
       "</div>"
      ],
      "text/plain": [
       "             Total\n",
       "Year              \n",
       "1970-01-01  284.91\n",
       "1971-01-01  277.05\n",
       "1972-01-01  274.09\n",
       "1973-01-01  280.37\n",
       "1974-01-01  258.79"
      ]
     },
     "execution_count": 20,
     "metadata": {},
     "output_type": "execute_result"
    }
   ],
   "source": [
    "df_time = df.copy()\n",
    "df_time.Year = df_time.Year.apply(lambda x: date(year=x, month=1, day=1))\n",
    "df_time.set_index(\"Year\", inplace=True)\n",
    "df_time.head()"
   ]
  },
  {
   "cell_type": "code",
   "execution_count": 29,
   "id": "da534792-d0f8-4c43-a158-0dee38d74eac",
   "metadata": {
    "tags": []
   },
   "outputs": [],
   "source": [
    "len_train = len(df)-5"
   ]
  },
  {
   "cell_type": "markdown",
   "id": "3f81626e-3994-4978-b372-8eca7ecff8eb",
   "metadata": {},
   "source": [
    "# Entrenamiento y prueba del modelo"
   ]
  },
  {
   "cell_type": "code",
   "execution_count": 37,
   "id": "ca58992e-062a-4c4a-b4d4-75598cf9d2b5",
   "metadata": {
    "tags": []
   },
   "outputs": [],
   "source": [
    "import sklearn as skl\n",
    "import skforecast as skf\n",
    "from sklearn.linear_model import Ridge\n",
    "from sklearn.tree import DecisionTreeRegressor\n",
    "from sklearn.preprocessing import StandardScaler\n",
    "from skforecast.ForecasterAutoreg import ForecasterAutoreg\n",
    "from skforecast.model_selection import grid_search_forecaster, backtesting_forecaster\n",
    "from statsmodels.graphics.tsaplots import plot_acf, plot_pacf"
   ]
  },
  {
   "cell_type": "markdown",
   "id": "19d6d02c-4e1a-430c-8c00-ab689bc7ad60",
   "metadata": {},
   "source": [
    "## Autocorrelación y autocorrelación parcial"
   ]
  },
  {
   "cell_type": "code",
   "execution_count": 44,
   "id": "62ab1c71-9545-4304-ade7-570900735c79",
   "metadata": {
    "tags": []
   },
   "outputs": [
    {
     "data": {
      "image/png": "[encoded data removed]",
      "text/plain": [
       "<Figure size 640x480 with 1 Axes>"
      ]
     },
     "execution_count": 44,
     "metadata": {},
     "output_type": "execute_result"
    },
    {
     "data": {
      "image/png": "[encoded data removed]",
      "text/plain": [
       "<Figure size 640x480 with 1 Axes>"
      ]
     },
     "metadata": {},
     "output_type": "display_data"
    },
    {
     "data": {
      "image/png": "[encoded data removed]",
      "text/plain": [
       "<Figure size 640x480 with 1 Axes>"
      ]
     },
     "metadata": {},
     "output_type": "display_data"
    }
   ],
   "source": [
    "plot_acf(df_time.Total, lags=26, title = \"CO2 en NY - Autocorrelación\")\n",
    "plot_pacf(df_time.Total, lags=26, title = \"CO2 en NY - Autocorrelación parcial\")"
   ]
  },
  {
   "cell_type": "markdown",
   "id": "6a3c0c7c-d52a-41b6-bc7c-41376f431fea",
   "metadata": {},
   "source": [
    "## Modelo Ridge"
   ]
  },
  {
   "cell_type": "code",
   "execution_count": 45,
   "id": "8839de73-9724-4622-b9fb-e342bb0cab81",
   "metadata": {
    "tags": []
   },
   "outputs": [],
   "source": [
    "def calcular_u1(y_true, y_pred):\n",
    "    size = len(y_true)\n",
    "    u = np.sqrt(np.sum(np.square(y_true-y_pred))/size)\n",
    "    u /= np.sum(np.sqrt(np.sum(np.square(y_true))/size)+np.sqrt(np.sum(np.square(y_pred))/size))\n",
    "    return u"
   ]
  },
  {
   "cell_type": "code",
   "execution_count": 79,
   "id": "19f7bfbe-5b63-4817-8ae6-7157319a08e8",
   "metadata": {
    "tags": []
   },
   "outputs": [
    {
     "name": "stdout",
     "output_type": "stream",
     "text": [
      "Number of models compared: 360.\n"
     ]
    },
    {
     "data": {
      "application/vnd.jupyter.widget-view+json": {
       "model_id": "597812f234bb4f3cba6ce6a01622480a",
       "version_major": 2,
       "version_minor": 0
      },
      "text/plain": [
       "lags grid:   0%|          | 0/5 [00:00<?, ?it/s]"
      ]
     },
     "metadata": {},
     "output_type": "display_data"
    },
    {
     "data": {
      "application/vnd.jupyter.widget-view+json": {
       "model_id": "",
       "version_major": 2,
       "version_minor": 0
      },
      "text/plain": [
       "params grid:   0%|          | 0/72 [00:00<?, ?it/s]"
      ]
     },
     "metadata": {},
     "output_type": "display_data"
    },
    {
     "name": "stdout",
     "output_type": "stream",
     "text": [
      "`Forecaster` refitted using the best-found lags and parameters, and the whole data set: \n",
      "  Lags: [1 2 3 4 5 6 7 8 9] \n",
      "  Parameters: {'alpha': 0.01, 'fit_intercept': False, 'solver': 'sparse_cg'}\n",
      "  Backtesting metric: 0.024653989161884746\n",
      "\n"
     ]
    },
    {
     "data": {
      "text/html": [
       "<div>\n",
       "<style scoped>\n",
       "    .dataframe tbody tr th:only-of-type {\n",
       "        vertical-align: middle;\n",
       "    }\n",
       "\n",
       "    .dataframe tbody tr th {\n",
       "        vertical-align: top;\n",
       "    }\n",
       "\n",
       "    .dataframe thead th {\n",
       "        text-align: right;\n",
       "    }\n",
       "</style>\n",
       "<table border=\"1\" class=\"dataframe\">\n",
       "  <thead>\n",
       "    <tr style=\"text-align: right;\">\n",
       "      <th></th>\n",
       "      <th>lags</th>\n",
       "      <th>lags_label</th>\n",
       "      <th>params</th>\n",
       "      <th>calcular_u1</th>\n",
       "      <th>alpha</th>\n",
       "      <th>fit_intercept</th>\n",
       "      <th>solver</th>\n",
       "    </tr>\n",
       "  </thead>\n",
       "  <tbody>\n",
       "    <tr>\n",
       "      <th>249</th>\n",
       "      <td>[1, 2, 3, 4, 5, 6, 7, 8, 9]</td>\n",
       "      <td>[1, 2, 3, 4, 5, 6, 7, 8, 9]</td>\n",
       "      <td>{'alpha': 0.01, 'fit_intercept': False, 'solve...</td>\n",
       "      <td>0.024654</td>\n",
       "      <td>0.0100</td>\n",
       "      <td>False</td>\n",
       "      <td>sparse_cg</td>\n",
       "    </tr>\n",
       "    <tr>\n",
       "      <th>261</th>\n",
       "      <td>[1, 2, 3, 4, 5, 6, 7, 8, 9]</td>\n",
       "      <td>[1, 2, 3, 4, 5, 6, 7, 8, 9]</td>\n",
       "      <td>{'alpha': 0.001, 'fit_intercept': False, 'solv...</td>\n",
       "      <td>0.024654</td>\n",
       "      <td>0.0010</td>\n",
       "      <td>False</td>\n",
       "      <td>sparse_cg</td>\n",
       "    </tr>\n",
       "    <tr>\n",
       "      <th>285</th>\n",
       "      <td>[1, 2, 3, 4, 5, 6, 7, 8, 9]</td>\n",
       "      <td>[1, 2, 3, 4, 5, 6, 7, 8, 9]</td>\n",
       "      <td>{'alpha': 0, 'fit_intercept': False, 'solver':...</td>\n",
       "      <td>0.024654</td>\n",
       "      <td>0.0000</td>\n",
       "      <td>False</td>\n",
       "      <td>sparse_cg</td>\n",
       "    </tr>\n",
       "    <tr>\n",
       "      <th>273</th>\n",
       "      <td>[1, 2, 3, 4, 5, 6, 7, 8, 9]</td>\n",
       "      <td>[1, 2, 3, 4, 5, 6, 7, 8, 9]</td>\n",
       "      <td>{'alpha': 0.0001, 'fit_intercept': False, 'sol...</td>\n",
       "      <td>0.024654</td>\n",
       "      <td>0.0001</td>\n",
       "      <td>False</td>\n",
       "      <td>sparse_cg</td>\n",
       "    </tr>\n",
       "    <tr>\n",
       "      <th>237</th>\n",
       "      <td>[1, 2, 3, 4, 5, 6, 7, 8, 9]</td>\n",
       "      <td>[1, 2, 3, 4, 5, 6, 7, 8, 9]</td>\n",
       "      <td>{'alpha': 0.1, 'fit_intercept': False, 'solver...</td>\n",
       "      <td>0.024655</td>\n",
       "      <td>0.1000</td>\n",
       "      <td>False</td>\n",
       "      <td>sparse_cg</td>\n",
       "    </tr>\n",
       "    <tr>\n",
       "      <th>...</th>\n",
       "      <td>...</td>\n",
       "      <td>...</td>\n",
       "      <td>...</td>\n",
       "      <td>...</td>\n",
       "      <td>...</td>\n",
       "      <td>...</td>\n",
       "      <td>...</td>\n",
       "    </tr>\n",
       "    <tr>\n",
       "      <th>252</th>\n",
       "      <td>[1, 2, 3, 4, 5, 6, 7, 8, 9]</td>\n",
       "      <td>[1, 2, 3, 4, 5, 6, 7, 8, 9]</td>\n",
       "      <td>{'alpha': 0.001, 'fit_intercept': True, 'solve...</td>\n",
       "      <td>0.089722</td>\n",
       "      <td>0.0010</td>\n",
       "      <td>True</td>\n",
       "      <td>svd</td>\n",
       "    </tr>\n",
       "    <tr>\n",
       "      <th>264</th>\n",
       "      <td>[1, 2, 3, 4, 5, 6, 7, 8, 9]</td>\n",
       "      <td>[1, 2, 3, 4, 5, 6, 7, 8, 9]</td>\n",
       "      <td>{'alpha': 0.0001, 'fit_intercept': True, 'solv...</td>\n",
       "      <td>0.089722</td>\n",
       "      <td>0.0001</td>\n",
       "      <td>True</td>\n",
       "      <td>svd</td>\n",
       "    </tr>\n",
       "    <tr>\n",
       "      <th>265</th>\n",
       "      <td>[1, 2, 3, 4, 5, 6, 7, 8, 9]</td>\n",
       "      <td>[1, 2, 3, 4, 5, 6, 7, 8, 9]</td>\n",
       "      <td>{'alpha': 0.0001, 'fit_intercept': True, 'solv...</td>\n",
       "      <td>0.089722</td>\n",
       "      <td>0.0001</td>\n",
       "      <td>True</td>\n",
       "      <td>cholesky</td>\n",
       "    </tr>\n",
       "    <tr>\n",
       "      <th>277</th>\n",
       "      <td>[1, 2, 3, 4, 5, 6, 7, 8, 9]</td>\n",
       "      <td>[1, 2, 3, 4, 5, 6, 7, 8, 9]</td>\n",
       "      <td>{'alpha': 0, 'fit_intercept': True, 'solver': ...</td>\n",
       "      <td>0.089722</td>\n",
       "      <td>0.0000</td>\n",
       "      <td>True</td>\n",
       "      <td>cholesky</td>\n",
       "    </tr>\n",
       "    <tr>\n",
       "      <th>276</th>\n",
       "      <td>[1, 2, 3, 4, 5, 6, 7, 8, 9]</td>\n",
       "      <td>[1, 2, 3, 4, 5, 6, 7, 8, 9]</td>\n",
       "      <td>{'alpha': 0, 'fit_intercept': True, 'solver': ...</td>\n",
       "      <td>0.089722</td>\n",
       "      <td>0.0000</td>\n",
       "      <td>True</td>\n",
       "      <td>svd</td>\n",
       "    </tr>\n",
       "  </tbody>\n",
       "</table>\n",
       "<p>360 rows × 7 columns</p>\n",
       "</div>"
      ],
      "text/plain": [
       "                            lags                   lags_label  \\\n",
       "249  [1, 2, 3, 4, 5, 6, 7, 8, 9]  [1, 2, 3, 4, 5, 6, 7, 8, 9]   \n",
       "261  [1, 2, 3, 4, 5, 6, 7, 8, 9]  [1, 2, 3, 4, 5, 6, 7, 8, 9]   \n",
       "285  [1, 2, 3, 4, 5, 6, 7, 8, 9]  [1, 2, 3, 4, 5, 6, 7, 8, 9]   \n",
       "273  [1, 2, 3, 4, 5, 6, 7, 8, 9]  [1, 2, 3, 4, 5, 6, 7, 8, 9]   \n",
       "237  [1, 2, 3, 4, 5, 6, 7, 8, 9]  [1, 2, 3, 4, 5, 6, 7, 8, 9]   \n",
       "..                           ...                          ...   \n",
       "252  [1, 2, 3, 4, 5, 6, 7, 8, 9]  [1, 2, 3, 4, 5, 6, 7, 8, 9]   \n",
       "264  [1, 2, 3, 4, 5, 6, 7, 8, 9]  [1, 2, 3, 4, 5, 6, 7, 8, 9]   \n",
       "265  [1, 2, 3, 4, 5, 6, 7, 8, 9]  [1, 2, 3, 4, 5, 6, 7, 8, 9]   \n",
       "277  [1, 2, 3, 4, 5, 6, 7, 8, 9]  [1, 2, 3, 4, 5, 6, 7, 8, 9]   \n",
       "276  [1, 2, 3, 4, 5, 6, 7, 8, 9]  [1, 2, 3, 4, 5, 6, 7, 8, 9]   \n",
       "\n",
       "                                                params  calcular_u1   alpha  \\\n",
       "249  {'alpha': 0.01, 'fit_intercept': False, 'solve...     0.024654  0.0100   \n",
       "261  {'alpha': 0.001, 'fit_intercept': False, 'solv...     0.024654  0.0010   \n",
       "285  {'alpha': 0, 'fit_intercept': False, 'solver':...     0.024654  0.0000   \n",
       "273  {'alpha': 0.0001, 'fit_intercept': False, 'sol...     0.024654  0.0001   \n",
       "237  {'alpha': 0.1, 'fit_intercept': False, 'solver...     0.024655  0.1000   \n",
       "..                                                 ...          ...     ...   \n",
       "252  {'alpha': 0.001, 'fit_intercept': True, 'solve...     0.089722  0.0010   \n",
       "264  {'alpha': 0.0001, 'fit_intercept': True, 'solv...     0.089722  0.0001   \n",
       "265  {'alpha': 0.0001, 'fit_intercept': True, 'solv...     0.089722  0.0001   \n",
       "277  {'alpha': 0, 'fit_intercept': True, 'solver': ...     0.089722  0.0000   \n",
       "276  {'alpha': 0, 'fit_intercept': True, 'solver': ...     0.089722  0.0000   \n",
       "\n",
       "     fit_intercept     solver  \n",
       "249          False  sparse_cg  \n",
       "261          False  sparse_cg  \n",
       "285          False  sparse_cg  \n",
       "273          False  sparse_cg  \n",
       "237          False  sparse_cg  \n",
       "..             ...        ...  \n",
       "252           True        svd  \n",
       "264           True        svd  \n",
       "265           True   cholesky  \n",
       "277           True   cholesky  \n",
       "276           True        svd  \n",
       "\n",
       "[360 rows x 7 columns]"
      ]
     },
     "execution_count": 79,
     "metadata": {},
     "output_type": "execute_result"
    }
   ],
   "source": [
    "lags_grid = [2, 4, 7, 9, 14]\n",
    "param_grid = {\n",
    "    \"alpha\": [1, 0.1, 0.01, 0.001, 0.0001, 0],\n",
    "    \"fit_intercept\": [True, False],\n",
    "    \"solver\": ['svd', 'cholesky', 'lsqr', 'sparse_cg', 'sag', 'saga']\n",
    "}\n",
    "\n",
    "forecaster = ForecasterAutoreg(\n",
    "    regressor=Ridge(random_state=42),\n",
    "    lags=7\n",
    ")\n",
    "\n",
    "grid = grid_search_forecaster(\n",
    "    forecaster=forecaster,\n",
    "    y = df.Total,\n",
    "    param_grid=param_grid,\n",
    "    lags_grid=lags_grid,\n",
    "    steps=5,\n",
    "    metric=calcular_u1,\n",
    "    initial_train_size=len_train,\n",
    "    refit=True,\n",
    "    fixed_train_size=True,\n",
    "    return_best=True,\n",
    "    verbose=False,\n",
    "    show_progress=True\n",
    ")\n",
    "\n",
    "grid"
   ]
  },
  {
   "cell_type": "code",
   "execution_count": 80,
   "id": "ea9538b8-0d9f-4ae2-838a-d6785720b2bd",
   "metadata": {
    "tags": []
   },
   "outputs": [
    {
     "data": {
      "application/vnd.jupyter.widget-view+json": {
       "model_id": "1945e6382d3d4463bc95408092b34615",
       "version_major": 2,
       "version_minor": 0
      },
      "text/plain": [
       "  0%|          | 0/1 [00:00<?, ?it/s]"
      ]
     },
     "metadata": {},
     "output_type": "display_data"
    },
    {
     "data": {
      "text/plain": [
       "[64.78431539227037, 6.390153607950504, 0.024653989161884746]"
      ]
     },
     "execution_count": 80,
     "metadata": {},
     "output_type": "execute_result"
    }
   ],
   "source": [
    "metrics, predictions = backtesting_forecaster(\n",
    "    forecaster=forecaster,\n",
    "    y=df.Total,\n",
    "    initial_train_size=len_train,\n",
    "    steps=10,\n",
    "    metric=[\"mean_squared_error\", \"mean_absolute_error\", calcular_u1],\n",
    "    refit=True,\n",
    "    fixed_train_size=True,\n",
    "    verbose=False,\n",
    "    show_progress=True\n",
    ")\n",
    "\n",
    "metrics"
   ]
  },
  {
   "cell_type": "code",
   "execution_count": 81,
   "id": "ecde13a9-a830-4258-95f7-e1ac72ebdb47",
   "metadata": {
    "tags": []
   },
   "outputs": [
    {
     "name": "stdout",
     "output_type": "stream",
     "text": [
      "Number of models compared: 960.\n"
     ]
    },
    {
     "data": {
      "application/vnd.jupyter.widget-view+json": {
       "model_id": "a80204b00a7940568fdd9a3c0f89e0b1",
       "version_major": 2,
       "version_minor": 0
      },
      "text/plain": [
       "lags grid:   0%|          | 0/5 [00:00<?, ?it/s]"
      ]
     },
     "metadata": {},
     "output_type": "display_data"
    },
    {
     "data": {
      "application/vnd.jupyter.widget-view+json": {
       "model_id": "",
       "version_major": 2,
       "version_minor": 0
      },
      "text/plain": [
       "params grid:   0%|          | 0/192 [00:00<?, ?it/s]"
      ]
     },
     "metadata": {},
     "output_type": "display_data"
    },
    {
     "name": "stdout",
     "output_type": "stream",
     "text": [
      "`Forecaster` refitted using the best-found lags and parameters, and the whole data set: \n",
      "  Lags: [1 2] \n",
      "  Parameters: {'max_depth': 10, 'min_samples_leaf': 1, 'min_samples_split': 3}\n",
      "  Backtesting metric: 0.038745702741762506\n",
      "\n"
     ]
    },
    {
     "data": {
      "text/html": [
       "<div>\n",
       "<style scoped>\n",
       "    .dataframe tbody tr th:only-of-type {\n",
       "        vertical-align: middle;\n",
       "    }\n",
       "\n",
       "    .dataframe tbody tr th {\n",
       "        vertical-align: top;\n",
       "    }\n",
       "\n",
       "    .dataframe thead th {\n",
       "        text-align: right;\n",
       "    }\n",
       "</style>\n",
       "<table border=\"1\" class=\"dataframe\">\n",
       "  <thead>\n",
       "    <tr style=\"text-align: right;\">\n",
       "      <th></th>\n",
       "      <th>lags</th>\n",
       "      <th>lags_label</th>\n",
       "      <th>params</th>\n",
       "      <th>calcular_u1</th>\n",
       "      <th>max_depth</th>\n",
       "      <th>min_samples_leaf</th>\n",
       "      <th>min_samples_split</th>\n",
       "    </tr>\n",
       "  </thead>\n",
       "  <tbody>\n",
       "    <tr>\n",
       "      <th>97</th>\n",
       "      <td>[1, 2]</td>\n",
       "      <td>[1, 2]</td>\n",
       "      <td>{'max_depth': 10, 'min_samples_leaf': 1, 'min_...</td>\n",
       "      <td>0.038746</td>\n",
       "      <td>10</td>\n",
       "      <td>1</td>\n",
       "      <td>3</td>\n",
       "    </tr>\n",
       "    <tr>\n",
       "      <th>33</th>\n",
       "      <td>[1, 2]</td>\n",
       "      <td>[1, 2]</td>\n",
       "      <td>{'max_depth': 6, 'min_samples_leaf': 1, 'min_s...</td>\n",
       "      <td>0.038746</td>\n",
       "      <td>6</td>\n",
       "      <td>1</td>\n",
       "      <td>3</td>\n",
       "    </tr>\n",
       "    <tr>\n",
       "      <th>177</th>\n",
       "      <td>[1, 2]</td>\n",
       "      <td>[1, 2]</td>\n",
       "      <td>{'max_depth': 15, 'min_samples_leaf': 1, 'min_...</td>\n",
       "      <td>0.038746</td>\n",
       "      <td>15</td>\n",
       "      <td>1</td>\n",
       "      <td>3</td>\n",
       "    </tr>\n",
       "    <tr>\n",
       "      <th>65</th>\n",
       "      <td>[1, 2]</td>\n",
       "      <td>[1, 2]</td>\n",
       "      <td>{'max_depth': 8, 'min_samples_leaf': 1, 'min_s...</td>\n",
       "      <td>0.038746</td>\n",
       "      <td>8</td>\n",
       "      <td>1</td>\n",
       "      <td>3</td>\n",
       "    </tr>\n",
       "    <tr>\n",
       "      <th>49</th>\n",
       "      <td>[1, 2]</td>\n",
       "      <td>[1, 2]</td>\n",
       "      <td>{'max_depth': 7, 'min_samples_leaf': 1, 'min_s...</td>\n",
       "      <td>0.038746</td>\n",
       "      <td>7</td>\n",
       "      <td>1</td>\n",
       "      <td>3</td>\n",
       "    </tr>\n",
       "    <tr>\n",
       "      <th>...</th>\n",
       "      <td>...</td>\n",
       "      <td>...</td>\n",
       "      <td>...</td>\n",
       "      <td>...</td>\n",
       "      <td>...</td>\n",
       "      <td>...</td>\n",
       "      <td>...</td>\n",
       "    </tr>\n",
       "    <tr>\n",
       "      <th>770</th>\n",
       "      <td>[1, 2, 3, 4, 5, 6, 7, 8, 9, 10, 11, 12, 13, 14]</td>\n",
       "      <td>[1, 2, 3, 4, 5, 6, 7, 8, 9, 10, 11, 12, 13, 14]</td>\n",
       "      <td>{'max_depth': 4, 'min_samples_leaf': 1, 'min_s...</td>\n",
       "      <td>0.050921</td>\n",
       "      <td>4</td>\n",
       "      <td>1</td>\n",
       "      <td>4</td>\n",
       "    </tr>\n",
       "    <tr>\n",
       "      <th>769</th>\n",
       "      <td>[1, 2, 3, 4, 5, 6, 7, 8, 9, 10, 11, 12, 13, 14]</td>\n",
       "      <td>[1, 2, 3, 4, 5, 6, 7, 8, 9, 10, 11, 12, 13, 14]</td>\n",
       "      <td>{'max_depth': 4, 'min_samples_leaf': 1, 'min_s...</td>\n",
       "      <td>0.050921</td>\n",
       "      <td>4</td>\n",
       "      <td>1</td>\n",
       "      <td>3</td>\n",
       "    </tr>\n",
       "    <tr>\n",
       "      <th>768</th>\n",
       "      <td>[1, 2, 3, 4, 5, 6, 7, 8, 9, 10, 11, 12, 13, 14]</td>\n",
       "      <td>[1, 2, 3, 4, 5, 6, 7, 8, 9, 10, 11, 12, 13, 14]</td>\n",
       "      <td>{'max_depth': 4, 'min_samples_leaf': 1, 'min_s...</td>\n",
       "      <td>0.050921</td>\n",
       "      <td>4</td>\n",
       "      <td>1</td>\n",
       "      <td>2</td>\n",
       "    </tr>\n",
       "    <tr>\n",
       "      <th>931</th>\n",
       "      <td>[1, 2, 3, 4, 5, 6, 7, 8, 9, 10, 11, 12, 13, 14]</td>\n",
       "      <td>[1, 2, 3, 4, 5, 6, 7, 8, 9, 10, 11, 12, 13, 14]</td>\n",
       "      <td>{'max_depth': 14, 'min_samples_leaf': 1, 'min_...</td>\n",
       "      <td>0.050921</td>\n",
       "      <td>14</td>\n",
       "      <td>1</td>\n",
       "      <td>5</td>\n",
       "    </tr>\n",
       "    <tr>\n",
       "      <th>787</th>\n",
       "      <td>[1, 2, 3, 4, 5, 6, 7, 8, 9, 10, 11, 12, 13, 14]</td>\n",
       "      <td>[1, 2, 3, 4, 5, 6, 7, 8, 9, 10, 11, 12, 13, 14]</td>\n",
       "      <td>{'max_depth': 5, 'min_samples_leaf': 1, 'min_s...</td>\n",
       "      <td>0.050921</td>\n",
       "      <td>5</td>\n",
       "      <td>1</td>\n",
       "      <td>5</td>\n",
       "    </tr>\n",
       "  </tbody>\n",
       "</table>\n",
       "<p>960 rows × 7 columns</p>\n",
       "</div>"
      ],
      "text/plain": [
       "                                                lags  \\\n",
       "97                                            [1, 2]   \n",
       "33                                            [1, 2]   \n",
       "177                                           [1, 2]   \n",
       "65                                            [1, 2]   \n",
       "49                                            [1, 2]   \n",
       "..                                               ...   \n",
       "770  [1, 2, 3, 4, 5, 6, 7, 8, 9, 10, 11, 12, 13, 14]   \n",
       "769  [1, 2, 3, 4, 5, 6, 7, 8, 9, 10, 11, 12, 13, 14]   \n",
       "768  [1, 2, 3, 4, 5, 6, 7, 8, 9, 10, 11, 12, 13, 14]   \n",
       "931  [1, 2, 3, 4, 5, 6, 7, 8, 9, 10, 11, 12, 13, 14]   \n",
       "787  [1, 2, 3, 4, 5, 6, 7, 8, 9, 10, 11, 12, 13, 14]   \n",
       "\n",
       "                                          lags_label  \\\n",
       "97                                            [1, 2]   \n",
       "33                                            [1, 2]   \n",
       "177                                           [1, 2]   \n",
       "65                                            [1, 2]   \n",
       "49                                            [1, 2]   \n",
       "..                                               ...   \n",
       "770  [1, 2, 3, 4, 5, 6, 7, 8, 9, 10, 11, 12, 13, 14]   \n",
       "769  [1, 2, 3, 4, 5, 6, 7, 8, 9, 10, 11, 12, 13, 14]   \n",
       "768  [1, 2, 3, 4, 5, 6, 7, 8, 9, 10, 11, 12, 13, 14]   \n",
       "931  [1, 2, 3, 4, 5, 6, 7, 8, 9, 10, 11, 12, 13, 14]   \n",
       "787  [1, 2, 3, 4, 5, 6, 7, 8, 9, 10, 11, 12, 13, 14]   \n",
       "\n",
       "                                                params  calcular_u1  \\\n",
       "97   {'max_depth': 10, 'min_samples_leaf': 1, 'min_...     0.038746   \n",
       "33   {'max_depth': 6, 'min_samples_leaf': 1, 'min_s...     0.038746   \n",
       "177  {'max_depth': 15, 'min_samples_leaf': 1, 'min_...     0.038746   \n",
       "65   {'max_depth': 8, 'min_samples_leaf': 1, 'min_s...     0.038746   \n",
       "49   {'max_depth': 7, 'min_samples_leaf': 1, 'min_s...     0.038746   \n",
       "..                                                 ...          ...   \n",
       "770  {'max_depth': 4, 'min_samples_leaf': 1, 'min_s...     0.050921   \n",
       "769  {'max_depth': 4, 'min_samples_leaf': 1, 'min_s...     0.050921   \n",
       "768  {'max_depth': 4, 'min_samples_leaf': 1, 'min_s...     0.050921   \n",
       "931  {'max_depth': 14, 'min_samples_leaf': 1, 'min_...     0.050921   \n",
       "787  {'max_depth': 5, 'min_samples_leaf': 1, 'min_s...     0.050921   \n",
       "\n",
       "     max_depth  min_samples_leaf  min_samples_split  \n",
       "97          10                 1                  3  \n",
       "33           6                 1                  3  \n",
       "177         15                 1                  3  \n",
       "65           8                 1                  3  \n",
       "49           7                 1                  3  \n",
       "..         ...               ...                ...  \n",
       "770          4                 1                  4  \n",
       "769          4                 1                  3  \n",
       "768          4                 1                  2  \n",
       "931         14                 1                  5  \n",
       "787          5                 1                  5  \n",
       "\n",
       "[960 rows x 7 columns]"
      ]
     },
     "execution_count": 81,
     "metadata": {},
     "output_type": "execute_result"
    }
   ],
   "source": [
    "param_grid = {\n",
    "    \"max_depth\": list(range(4,16)),\n",
    "    \"min_samples_split\": list(range(2,6)),\n",
    "    \"min_samples_leaf\": list(range(1,5))\n",
    "}\n",
    "\n",
    "forecaster = ForecasterAutoreg(\n",
    "    regressor=DecisionTreeRegressor(random_state=42),\n",
    "    lags=7\n",
    ")\n",
    "\n",
    "grid = grid_search_forecaster(\n",
    "    forecaster=forecaster,\n",
    "    y = df.Total,\n",
    "    param_grid=param_grid,\n",
    "    lags_grid=lags_grid,\n",
    "    steps=5,\n",
    "    metric=calcular_u1,\n",
    "    initial_train_size=len_train,\n",
    "    refit=True,\n",
    "    fixed_train_size=True,\n",
    "    return_best=True,\n",
    "    verbose=False,\n",
    "    show_progress=True\n",
    ")\n",
    "\n",
    "grid"
   ]
  },
  {
   "cell_type": "code",
   "execution_count": 82,
   "id": "6046c37f-4bf7-40ff-8b55-9c07a6277f7e",
   "metadata": {
    "tags": []
   },
   "outputs": [
    {
     "data": {
      "application/vnd.jupyter.widget-view+json": {
       "model_id": "132a67b4fcc448bba914b2ca70a5567d",
       "version_major": 2,
       "version_minor": 0
      },
      "text/plain": [
       "  0%|          | 0/1 [00:00<?, ?it/s]"
      ]
     },
     "metadata": {},
     "output_type": "display_data"
    },
    {
     "data": {
      "text/plain": [
       "[167.3094, 9.654000000000007, 0.038745702741762506]"
      ]
     },
     "execution_count": 82,
     "metadata": {},
     "output_type": "execute_result"
    }
   ],
   "source": [
    "metrics, predictions = backtesting_forecaster(\n",
    "    forecaster=forecaster,\n",
    "    y=df.Total,\n",
    "    initial_train_size=len_train,\n",
    "    steps=10,\n",
    "    metric=[\"mean_squared_error\", \"mean_absolute_error\", calcular_u1],\n",
    "    refit=True,\n",
    "    fixed_train_size=True,\n",
    "    verbose=False,\n",
    "    show_progress=True\n",
    ")\n",
    "\n",
    "metrics"
   ]
  },
  {
   "cell_type": "code",
   "execution_count": 120,
   "id": "12fb9970-dd53-4257-adc5-3d9af007b2c9",
   "metadata": {
    "tags": []
   },
   "outputs": [
    {
     "data": {
      "text/plain": [
       "================= \n",
       "ForecasterAutoreg \n",
       "================= \n",
       "Regressor: Ridge(alpha=0.01, fit_intercept=False, random_state=42, solver='sparse_cg') \n",
       "Lags: [1 2 3 4 5 6 7 8 9] \n",
       "Transformer for y: None \n",
       "Transformer for exog: None \n",
       "Window size: 9 \n",
       "Weight function included: False \n",
       "Differentiation order: None \n",
       "Exogenous included: False \n",
       "Type of exogenous variable: None \n",
       "Exogenous variables names: None \n",
       "Training range: [0, 46] \n",
       "Training index type: RangeIndex \n",
       "Training index frequency: 1 \n",
       "Regressor parameters: {'alpha': 0.01, 'copy_X': True, 'fit_intercept': False, 'max_iter': None, 'positive': False, 'random_state': 42, 'solver': 'sparse_cg', 'tol': 0.0001} \n",
       "fit_kwargs: {} \n",
       "Creation date: 2024-05-22 19:24:13 \n",
       "Last fit date: 2024-05-22 19:24:13 \n",
       "Skforecast version: 0.12.1 \n",
       "Python version: 3.10.14 \n",
       "Forecaster id: None "
      ]
     },
     "execution_count": 120,
     "metadata": {},
     "output_type": "execute_result"
    }
   ],
   "source": [
    "final_forecaster_ridge = ForecasterAutoreg(\n",
    "    regressor=Ridge(\n",
    "        alpha=0.01,\n",
    "        fit_intercept=False,\n",
    "        solver=\"sparse_cg\",\n",
    "        random_state=42\n",
    "    ),\n",
    "    lags=9\n",
    ")\n",
    "final_forecaster_ridge.fit(y=df.Total[:len_train])\n",
    "final_forecaster_ridge"
   ]
  },
  {
   "cell_type": "code",
   "execution_count": 121,
   "id": "68fd1a8b-e92f-4738-9b01-850c893d4fa4",
   "metadata": {
    "tags": []
   },
   "outputs": [
    {
     "data": {
      "text/plain": [
       "47    170.247009\n",
       "48    169.922375\n",
       "49    163.811157\n",
       "50    159.185340\n",
       "51    157.431951\n",
       "Name: pred, dtype: float64"
      ]
     },
     "execution_count": 121,
     "metadata": {},
     "output_type": "execute_result"
    }
   ],
   "source": [
    "steps = len(df)-len_train\n",
    "predicciones = final_forecaster_ridge.predict(steps=steps)\n",
    "predicciones"
   ]
  },
  {
   "cell_type": "code",
   "execution_count": 110,
   "id": "4f503f50-9010-4052-9506-d2667d843285",
   "metadata": {
    "tags": []
   },
   "outputs": [
    {
     "data": {
      "text/plain": [
       "47    165.84\n",
       "48    175.10\n",
       "49    169.03\n",
       "50    143.42\n",
       "51    156.05\n",
       "Name: Total, dtype: float64"
      ]
     },
     "execution_count": 110,
     "metadata": {},
     "output_type": "execute_result"
    }
   ],
   "source": [
    "df.Total[len_train:]"
   ]
  },
  {
   "cell_type": "code",
   "execution_count": 111,
   "id": "2186439c-3dc2-465d-9597-f7d75a6a903f",
   "metadata": {
    "tags": []
   },
   "outputs": [
    {
     "name": "stdout",
     "output_type": "stream",
     "text": [
      "Error de test (mse): 64.78431539227037\n"
     ]
    }
   ],
   "source": [
    "error_mse = mean_squared_error(\n",
    "                y_true = df.Total[len_train:],\n",
    "                y_pred = predicciones\n",
    "            )\n",
    "print(f\"Error de test (mse): {error_mse}\")"
   ]
  },
  {
   "cell_type": "code",
   "execution_count": 129,
   "id": "310bbabd-3461-4aa6-9a26-6c58b69347a2",
   "metadata": {
    "tags": []
   },
   "outputs": [
    {
     "data": {
      "text/plain": [
       "================= \n",
       "ForecasterAutoreg \n",
       "================= \n",
       "Regressor: DecisionTreeRegressor(max_depth=6, min_samples_split=3) \n",
       "Lags: [1 2] \n",
       "Transformer for y: None \n",
       "Transformer for exog: None \n",
       "Window size: 2 \n",
       "Weight function included: False \n",
       "Differentiation order: None \n",
       "Exogenous included: False \n",
       "Type of exogenous variable: None \n",
       "Exogenous variables names: None \n",
       "Training range: [0, 46] \n",
       "Training index type: RangeIndex \n",
       "Training index frequency: 1 \n",
       "Regressor parameters: {'ccp_alpha': 0.0, 'criterion': 'squared_error', 'max_depth': 6, 'max_features': None, 'max_leaf_nodes': None, 'min_impurity_decrease': 0.0, 'min_samples_leaf': 1, 'min_samples_split': 3, 'min_weight_fraction_leaf': 0.0, 'monotonic_cst': None, 'random_state': None, 'splitter': 'best'} \n",
       "fit_kwargs: {} \n",
       "Creation date: 2024-05-22 19:29:12 \n",
       "Last fit date: 2024-05-22 19:29:12 \n",
       "Skforecast version: 0.12.1 \n",
       "Python version: 3.10.14 \n",
       "Forecaster id: None "
      ]
     },
     "execution_count": 129,
     "metadata": {},
     "output_type": "execute_result"
    }
   ],
   "source": [
    "final_forecaster_tree = ForecasterAutoreg(\n",
    "    regressor=DecisionTreeRegressor(\n",
    "        max_depth=6,\n",
    "        min_samples_leaf=1,\n",
    "        min_samples_split=3\n",
    "    ),\n",
    "    lags=2\n",
    ")\n",
    "final_forecaster_tree.fit(y=df.Total[:len_train])\n",
    "final_forecaster_tree"
   ]
  },
  {
   "cell_type": "code",
   "execution_count": 130,
   "id": "0e774645-20d2-4c1a-9d8a-86855f8fedc1",
   "metadata": {
    "tags": []
   },
   "outputs": [
    {
     "data": {
      "text/plain": [
       "47    169.625\n",
       "48    175.285\n",
       "49    175.285\n",
       "50    169.625\n",
       "51    169.625\n",
       "Name: pred, dtype: float64"
      ]
     },
     "execution_count": 130,
     "metadata": {},
     "output_type": "execute_result"
    }
   ],
   "source": [
    "steps = len(df)-len_train\n",
    "predicciones = final_forecaster_tree.predict(steps=steps)\n",
    "predicciones"
   ]
  },
  {
   "cell_type": "code",
   "execution_count": 131,
   "id": "4b5a8a70-e283-4b6c-bc08-a721b310d42a",
   "metadata": {
    "tags": []
   },
   "outputs": [
    {
     "data": {
      "text/html": [
       "<div>\n",
       "<style scoped>\n",
       "    .dataframe tbody tr th:only-of-type {\n",
       "        vertical-align: middle;\n",
       "    }\n",
       "\n",
       "    .dataframe tbody tr th {\n",
       "        vertical-align: top;\n",
       "    }\n",
       "\n",
       "    .dataframe thead th {\n",
       "        text-align: right;\n",
       "    }\n",
       "</style>\n",
       "<table border=\"1\" class=\"dataframe\">\n",
       "  <thead>\n",
       "    <tr style=\"text-align: right;\">\n",
       "      <th></th>\n",
       "      <th>datos_reales</th>\n",
       "      <th>predicciones_tree</th>\n",
       "      <th>predicciones_ridge</th>\n",
       "    </tr>\n",
       "  </thead>\n",
       "  <tbody>\n",
       "    <tr>\n",
       "      <th>0</th>\n",
       "      <td>165.84</td>\n",
       "      <td>169.625</td>\n",
       "      <td>170.247009</td>\n",
       "    </tr>\n",
       "    <tr>\n",
       "      <th>1</th>\n",
       "      <td>175.10</td>\n",
       "      <td>175.285</td>\n",
       "      <td>169.922375</td>\n",
       "    </tr>\n",
       "    <tr>\n",
       "      <th>2</th>\n",
       "      <td>169.03</td>\n",
       "      <td>175.285</td>\n",
       "      <td>163.811157</td>\n",
       "    </tr>\n",
       "    <tr>\n",
       "      <th>3</th>\n",
       "      <td>143.42</td>\n",
       "      <td>169.625</td>\n",
       "      <td>159.185340</td>\n",
       "    </tr>\n",
       "    <tr>\n",
       "      <th>4</th>\n",
       "      <td>156.05</td>\n",
       "      <td>169.625</td>\n",
       "      <td>157.431951</td>\n",
       "    </tr>\n",
       "  </tbody>\n",
       "</table>\n",
       "</div>"
      ],
      "text/plain": [
       "   datos_reales  predicciones_tree  predicciones_ridge\n",
       "0        165.84            169.625          170.247009\n",
       "1        175.10            175.285          169.922375\n",
       "2        169.03            175.285          163.811157\n",
       "3        143.42            169.625          159.185340\n",
       "4        156.05            169.625          157.431951"
      ]
     },
     "execution_count": 131,
     "metadata": {},
     "output_type": "execute_result"
    }
   ],
   "source": [
    "datos = pd.DataFrame({\n",
    "    \"datos_reales\": list(df.Total[len_train:]),\n",
    "    \"predicciones_tree\": list(final_forecaster_tree.predict(steps=steps)),\n",
    "    \"predicciones_ridge\": list(final_forecaster_ridge.predict(steps=steps))\n",
    "})\n",
    "datos"
   ]
  },
  {
   "cell_type": "code",
   "execution_count": 135,
   "id": "a07635f8-e47a-42f7-9895-95f46349d4b0",
   "metadata": {
    "tags": []
   },
   "outputs": [
    {
     "name": "stdout",
     "output_type": "stream",
     "text": [
      "MSE - Ridge: 64.78431539227037\n",
      "MSE - Árbol: 184.8936250000001\n",
      "MAE - Ridge: 6.390153607950504\n",
      "MAE - Árbol: 10.00100000000001\n",
      "R2 - Ridge: 0.4744371222351025\n",
      "R2 - Árbol: -0.49994987285113646\n",
      "Theil's U - Ridge: 0.024653989161884746\n",
      "Theil's U - Árbol: 0.040689372454261685\n"
     ]
    }
   ],
   "source": [
    "print(f\"MSE - Ridge: {mean_squared_error(datos.datos_reales, datos.predicciones_ridge)}\")\n",
    "print(f\"MSE - Árbol: {mean_squared_error(datos.datos_reales, datos.predicciones_tree)}\")\n",
    "print(f\"MAE - Ridge: {mean_absolute_error(datos.datos_reales, datos.predicciones_ridge)}\")\n",
    "print(f\"MAE - Árbol: {mean_absolute_error(datos.datos_reales, datos.predicciones_tree)}\")\n",
    "print(f\"R2 - Ridge: {r2_score(datos.datos_reales, datos.predicciones_ridge)}\")\n",
    "print(f\"R2 - Árbol: {r2_score(datos.datos_reales, datos.predicciones_tree)}\")\n",
    "print(f\"Theil's U - Ridge: {calcular_u1(datos.datos_reales, datos.predicciones_ridge)}\")\n",
    "print(f\"Theil's U - Árbol: {calcular_u1(datos.datos_reales, datos.predicciones_tree)}\")"
   ]
  },
  {
   "cell_type": "code",
   "execution_count": 134,
   "id": "707cb056-332a-48db-b2fe-d44e4b64da4c",
   "metadata": {
    "tags": []
   },
   "outputs": [
    {
     "data": {
      "text/plain": [
       "<Axes: >"
      ]
     },
     "execution_count": 134,
     "metadata": {},
     "output_type": "execute_result"
    },
    {
     "data": {
      "image/png": "[encoded data removed]",
      "text/plain": [
       "<Figure size 640x480 with 1 Axes>"
      ]
     },
     "metadata": {},
     "output_type": "display_data"
    }
   ],
   "source": [
    "datos.plot()"
   ]
  },
  {
   "cell_type": "code",
   "execution_count": 145,
   "id": "506f29c1-e4b4-4d0a-8b7b-b59909c2142a",
   "metadata": {
    "tags": []
   },
   "outputs": [
    {
     "data": {
      "text/plain": [
       "Year\n",
       "2022    152.768059\n",
       "2023    146.863583\n",
       "2024    143.221456\n",
       "2025    146.173887\n",
       "2026    149.505415\n",
       "2027    142.948713\n",
       "2028    138.677758\n",
       "2029    141.785196\n",
       "2030    138.073167\n",
       "Name: Total, dtype: float64"
      ]
     },
     "execution_count": 145,
     "metadata": {},
     "output_type": "execute_result"
    }
   ],
   "source": [
    "final_forecaster_ridge = ForecasterAutoreg(\n",
    "    regressor=Ridge(\n",
    "        alpha=0.01,\n",
    "        fit_intercept=False,\n",
    "        solver=\"sparse_cg\",\n",
    "        random_state=42\n",
    "    ),\n",
    "    lags=9\n",
    ")\n",
    "final_forecaster_ridge.fit(y=df.Total)\n",
    "steps = 9\n",
    "preds = final_forecaster_ridge.predict(steps=steps)\n",
    "preds.index = index=list(range(2022,2031))\n",
    "preds.index.name = \"Year\"\n",
    "preds.name = \"Total\"\n",
    "preds"
   ]
  },
  {
   "cell_type": "code",
   "execution_count": 142,
   "id": "fdb62d93-322f-4ae8-8619-bc276cbe5d82",
   "metadata": {},
   "outputs": [],
   "source": [
    "with open(\"co2_preds.pkl\", \"wb\") as model:\n",
    "    pickle.dump(final_forecaster_ridge, model)"
   ]
  },
  {
   "cell_type": "code",
   "execution_count": 146,
   "id": "3c1de6bf-23d7-4810-9c89-e3162a1ddeaf",
   "metadata": {
    "tags": []
   },
   "outputs": [],
   "source": [
    "preds.to_csv(\"co2_predicciones.csv\")"
   ]
  },
  {
   "cell_type": "code",
   "execution_count": null,
   "id": "a3d55c17-4f2a-48d5-a61c-6839e1b0f778",
   "metadata": {},
   "outputs": [],
   "source": []
  }
 ],
 "metadata": {
  "kernelspec": {
   "display_name": "conda_python3",
   "language": "python",
   "name": "conda_python3"
  },
  "language_info": {
   "codemirror_mode": {
    "name": "ipython",
    "version": 3
   },
   "file_extension": ".py",
   "mimetype": "text/x-python",
   "name": "python",
   "nbconvert_exporter": "python",
   "pygments_lexer": "ipython3",
   "version": "3.10.14"
  }
 },
 "nbformat": 4,
 "nbformat_minor": 5
}
